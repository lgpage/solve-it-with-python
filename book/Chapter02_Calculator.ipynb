{
 "cells": [
  {
   "cell_type": "markdown",
   "metadata": {},
   "source": [
    "<div class=\"jumbotron jumbotron-fluid\">\n",
    "  <div class=\"container\">\n",
    "    <h1 class=\"display-3\">Calculator</h1>\n",
    "    <p class=\"lead\">Using *Python* as an Advanced Calculator.</p>\n",
    "  </div>\n",
    "</div>"
   ]
  },
  {
   "cell_type": "markdown",
   "metadata": {},
   "source": [
    "- [Overview](#Overview)\n",
    "- [Arithmetic operations](#Arithmetic-operations)\n",
    "- [Order of operations](#Order-of-operations)\n",
    "- [Assignment statements](#Assignment-statements)\n",
    "- [Variable names](#Variable-names)\n",
    "- [Expressions and statements](#Expressions-and-statements)\n",
    "- [Code comments](#Code-comments)\n",
    "- [Flow of execution](#Flow-of-execution)\n",
    "- [Nbtutor](#Nbtutor)\n",
    "- [Notebook namespace](#Notebook-namespace)\n",
    "- [Debugging](#Debugging)\n",
    "- [Glossary](#Glossary)\n",
    "- [Exercises](#Exercises)"
   ]
  },
  {
   "cell_type": "markdown",
   "metadata": {},
   "source": [
    "## Overview\n",
    "\n",
    "For each *Code Cell* there is a special prompt (`In [#]:`), where `#` is a command or execution reference number.\n",
    "*Python* instructions (code) can be typed into these *Code Cell*s and executed by selecting the *Code Cell* and pressing *Shift + Enter*.\n",
    "The output from the *Code Cell* will then be displayed (if the code requires it). "
   ]
  },
  {
   "cell_type": "code",
   "execution_count": null,
   "metadata": {},
   "outputs": [],
   "source": [
    "2 + 3"
   ]
  },
  {
   "cell_type": "markdown",
   "metadata": {},
   "source": [
    "When the *Code Cell* above is executed (by pressing *Shift + Enter*) the answer `5` is calculated and displayed as the output.\n",
    "The special prompt (`Out [#]:`) and the output of `5` is displayed to indicate that this *Python* instruction was computed successfully."
   ]
  },
  {
   "cell_type": "markdown",
   "metadata": {},
   "source": [
    "<div class=\"panel panel-info\">\n",
    "    <div class=\"panel-heading\">\n",
    "        <p><i class=\"fa fa-info-circle\" aria-hidden=\"true\"></i> More Information</p>\n",
    "    </div>\n",
    "    <div class=\"panel-body\">\n",
    "    <p>Line numbers, between the input prompt (`In [#]`) and the *Python* code, can be toggled (turned on or off) by selecting any *Code Cell* and pressing the *L* key or by selecting `View` $\\to$ `Toggle Line Numbers` in the menu bar above. Line numbers will be used through out this book for explanation purposes.</p>\n",
    "    </div>\n",
    "</div>"
   ]
  },
  {
   "cell_type": "markdown",
   "metadata": {},
   "source": [
    "## Arithmetic operations\n",
    "\n",
    "*Python* provides **operators**, which are special symbols that represent computations like addition and multiplication and *Python* can be used (or abused) as a simple calculator to compute numerical values.\n",
    "The symbols used for these computations are:\n",
    "\n",
    "  | Computation    | Math Symbol | *Code Cell*           |\n",
    "  | --------------:|:-----------:|:----------------------|\n",
    "  | Addition       | `+`         | `In [#]: 5 + 2`       |\n",
    "  | Subtraction    | `-`         | `In [#]: 5 - 2`       |\n",
    "  | Multiplication | `*`         | `In [#]: 5 * 2`       |\n",
    "  | Division       | `/`         | `In [#]: 5 / 2`       |\n",
    "  | Power          | $x^y$       | `In [#]: 5 ** 2`      |\n",
    "  | Grouping       | `()`        | `In [#]: 1 / (2 + 5)` |"
   ]
  },
  {
   "cell_type": "markdown",
   "metadata": {},
   "source": [
    "<div class=\"panel panel-danger\">\n",
    "    <div class=\"panel-heading\">\n",
    "        <p><i class=\"fa fa-exclamation-triangle\" aria-hidden=\"true\"></i> Take Note</p>\n",
    "    </div>\n",
    "    <div class=\"panel-body\">\n",
    "        <p>The power of $(x^y)$ is computed as `x**y` in *Python* and not traditionally as `x^y`</p>\n",
    "    </div>\n",
    "</div>"
   ]
  },
  {
   "cell_type": "markdown",
   "metadata": {},
   "source": [
    "## Order of operations\n",
    "\n",
    "When an expression contains more than one operator, the order of evaluation depends on the order of operations. For mathematical operators, *Python* follows mathematical convention. The acronym **BODMAS** or **PEDMAS** is a useful way to remember the rules:\n",
    "\n",
    "\n",
    "- **B**rackets (or **P**arentheses) have the highest precedence and can be used to force an expression to evaluate in the order you want. Since expressions in parentheses are evaluated first, `2 * (3 - 1)` is `4`, and `(1 + 1)**(5 - 2)` is `8`. You can also use parentheses to make an expression easier to read, as in `(minute * 100) / 60`, even if it doesn’t change the result.\n",
    "\n",
    "\n",
    "- **O**rders (or **E**xponentiation) has the next highest precedence, so `1 + 2**3` is `9`, not `27`, and `2 * 3**2` is `18`, not `36`.\n",
    "\n",
    "\n",
    "- **D**ivision and **M**ultiplication have higher precedence than\n",
    "\n",
    "\n",
    "- **A**ddition and **S**ubtraction. So `2 * 3 - 1` is `5`, not `4`, and `6 + 4 / 2` is `8`, not `5`.\n",
    "\n",
    "\n",
    "- Operators with the same precedence are evaluated from left to right (except exponentiation). So in the expression `degrees / 2 * pi`, the division happens first and the result is multiplied by `pi`. To divide by $2\\pi$, you can use parentheses or write `degrees / 2 / pi`.\n",
    "\n",
    "\n",
    "I don’t work very hard to remember the precedence of operators. If I can’t tell by looking at the expression, I use parentheses to make it obvious."
   ]
  },
  {
   "cell_type": "markdown",
   "metadata": {},
   "source": [
    "<div class=\"panel panel-info\">\n",
    "    <div class=\"panel-heading\">\n",
    "        <p><i class=\"fa fa-info-circle\" aria-hidden=\"true\"></i> More Information</p>\n",
    "    </div>\n",
    "    <div class=\"panel-body\">\n",
    "    <p>More information regarding operator priority can be displayed by executing `help('+')`.</p>\n",
    "    </div>\n",
    "</div>"
   ]
  },
  {
   "cell_type": "code",
   "execution_count": null,
   "metadata": {},
   "outputs": [],
   "source": [
    "help('+')"
   ]
  },
  {
   "cell_type": "markdown",
   "metadata": {},
   "source": [
    "### Example - Falling Object\n",
    "\n",
    "Consider the example of an object falling from a height above the ground.\n",
    "The equations describing the motion of this object, assuming constant acceleration, are:\n",
    "\n",
    "$$ \n",
    "\\begin{align}\n",
    "    a(t) &= g \\: \\text{(constant)} \\\\\n",
    "    v(t) &= \\int a(t) \\: \\mathrm{d}t  =  v_0 + gt \\\\\n",
    "    s(t) &= \\int v(t) \\: \\mathrm{d}t = s_0 + v_0t + 0.5 gt^2\n",
    "\\end{align}\n",
    "$$\n",
    "\n",
    "How long does an object fall from a $30 \\: m$ height, given the following initial values?\n",
    "\n",
    "- $s_0 = 30 \\: m$ (initial height)\n",
    "- $v_0 = 0 \\: m/s$ (initial velocity)\n",
    "- $g = -9.81 \\: m/s^2$ (gravitational acceleration)"
   ]
  },
  {
   "cell_type": "markdown",
   "metadata": {},
   "source": [
    "The solution to this problem is to solve for $t$ such that:\n",
    "\n",
    "$$ s(t) = s_0 + v_0t + 0.5 gt^2 = 0 $$\n",
    "\n",
    "Solving for $t$ gives:\n",
    "\n",
    "$$ t = \\frac{-b \\pm \\sqrt{b^2 - 4ac}}{2a} $$\n",
    "\n",
    "where\n",
    "$$\n",
    "\\begin{align}\n",
    "    a &= 0.5g = 0.5 (-9.81) \\\\\n",
    "    b &= v_0 = 0 \\\\\n",
    "    c &= s_0 = 30\n",
    "\\end{align}\n",
    "$$"
   ]
  },
  {
   "cell_type": "markdown",
   "metadata": {},
   "source": [
    "Substituting `a`, `b`, and `c` and solving for `t` gives the positive root as:"
   ]
  },
  {
   "cell_type": "code",
   "execution_count": null,
   "metadata": {},
   "outputs": [],
   "source": [
    "-0 + (0**2 - 4 * 0.5 * -9.81 * 30)**0.5 / (2 * 0.5 * -9.81)"
   ]
  },
  {
   "cell_type": "markdown",
   "metadata": {},
   "source": [
    "and the negative root as:"
   ]
  },
  {
   "cell_type": "code",
   "execution_count": null,
   "metadata": {},
   "outputs": [],
   "source": [
    "-0 - (0**2 - 4 * 0.5 * -9.81 * 30)**0.5 / (2 * 0.5 * -9.81)"
   ]
  },
  {
   "cell_type": "markdown",
   "metadata": {},
   "source": [
    "Play around with this example above and try to solve it for different initial values."
   ]
  },
  {
   "cell_type": "markdown",
   "metadata": {},
   "source": [
    "## Assignment statements\n",
    "\n",
    "When using *Python* as a simple calculator each number, executed in a *Code Cell*, was actually an object created in the computers’ memory.\n",
    "\n",
    "It is important to note that everything in *Python* is an object in memory.\n",
    "So executing `1 + 2` in a *Code Cell* actually creates three objects in memory:\n",
    "- the object `1`\n",
    "- the object `2` and\n",
    "- the object `3` (the result of `1 + 2`).\n",
    "\n",
    "Names are used in *Python* to reference these objects in memory. Engineers and scientists usually work with numbers or arrays of numbers, so most of the names dealt with in this textbook will reference numerical objects.\n",
    "\n",
    "A **variable** is a name that refers to a object and one of the most powerful features of a programming language is the ability to manipulate variables. In *Python*, a name is assigned to an object by typing a name followed by an equal sign followed by the object, for example:"
   ]
  },
  {
   "cell_type": "code",
   "execution_count": null,
   "metadata": {},
   "outputs": [],
   "source": [
    "pi = 3.141592653589793"
   ]
  },
  {
   "cell_type": "markdown",
   "metadata": {},
   "source": [
    "Executing the *Code Cell* above does not give any output. If does however create the object `3.141592653589793` in memory and then binds the name `pi` to that object. Thus the name `pi` now references the object (number) `3.141592653589793`."
   ]
  },
  {
   "cell_type": "markdown",
   "metadata": {},
   "source": [
    "<img src=\"figures/name_object_assignment.svg\" alt=\"Object Assignment\" style=\"height: 180px;\"/>"
   ]
  },
  {
   "cell_type": "markdown",
   "metadata": {},
   "source": [
    "Keep the following in mind when assigning names to objects (consider the image above):\n",
    "\n",
    "- The `RHS` of the `=` has to be known objects or values that can be evaluated (e.g. `7 + 3.3`)\n",
    "- The `RHS` of the `=` is calculated first according to the mathematical priority discussed previously\n",
    "- The `LHS` of the `=` can only be the chosen name (e.g. `foo`)\n",
    "- The `LHS` name is then bound to the result of the `RHS`"
   ]
  },
  {
   "cell_type": "markdown",
   "metadata": {},
   "source": [
    "<div class=\"panel panel-danger\">\n",
    "    <div class=\"panel-heading\">\n",
    "        <p><i class=\"fa fa-exclamation-triangle\" aria-hidden=\"true\"></i> Take Note</p>\n",
    "    </div>\n",
    "    <div class=\"panel-body\">\n",
    "        <p>Mathematically `x = 10.3` may be equivalent to `10.3 = x`, however in *Python* `x = 10.3` is not the same as `10.3 = x`. Executing `10.3 = x` in a *Code Cell* give an error, for example:</p>\n",
    "    </div>\n",
    "</div>"
   ]
  },
  {
   "cell_type": "code",
   "execution_count": null,
   "metadata": {},
   "outputs": [],
   "source": [
    "10.3 = x"
   ]
  },
  {
   "cell_type": "markdown",
   "metadata": {},
   "source": [
    "### Example - Falling Object\n",
    "\n",
    "Consider the example of an object falling from a height above the ground.\n",
    "The equations describing the motion of this object, assuming constant acceleration, are:\n",
    "\n",
    "$$ \n",
    "\\begin{align}\n",
    "    a(t) &= g \\: \\text{(constant)} \\\\\n",
    "    v(t) &= \\int a(t) \\: \\mathrm{d}t  =  v_0 + gt \\\\\n",
    "    s(t) &= \\int v(t) \\: \\mathrm{d}t = s_0 + v_0t + 0.5 gt^2\n",
    "\\end{align}\n",
    "$$\n",
    "\n",
    "Calculate $v(t)$ and $s(t)$ for the following values:\n",
    "\n",
    "- $s_0 = 30 \\: m$ (initial height)\n",
    "- $v_0 = 0 \\: m/s$ (initial velocity)\n",
    "- $g = -9.81 \\: m/s^2$ (gravitational acceleration)\n",
    "- $t = 1.5 \\: s$ (time)"
   ]
  },
  {
   "cell_type": "code",
   "execution_count": null,
   "metadata": {},
   "outputs": [],
   "source": [
    "s0 = 30\n",
    "v0 = 0\n",
    "g = -9.81\n",
    "t = 1.5\n",
    "\n",
    "vt = v0 + g*t\n",
    "st = s0 + v0*t + 0.5*g*t**2\n",
    "\n",
    "print(vt)\n",
    "print(st)"
   ]
  },
  {
   "cell_type": "markdown",
   "metadata": {},
   "source": [
    "For the example above it should be evident that names make it easier to read and understand a program / piece of code. Names also allow you to break up a complex calculations into smaller pieces and reference the answers of a calculations for later use.\n",
    "\n",
    "Play around with this example above and try to solve it for different initial values."
   ]
  },
  {
   "cell_type": "markdown",
   "metadata": {},
   "source": [
    "<div class=\"panel panel-danger\">\n",
    "    <div class=\"panel-heading\">\n",
    "        <p><i class=\"fa fa-exclamation-triangle\" aria-hidden=\"true\"></i> Take Note</p>\n",
    "    </div>\n",
    "    <div class=\"panel-body\">\n",
    "        <p>`v(t)` cannot be used directly as a variable name in *Python* as this would be interpreted as a function call, I.e. call (use) the function `v` with the input `t`. Function calls will be discussed in more detail in the following section.</p>\n",
    "    </div>\n",
    "</div>\n"
   ]
  },
  {
   "cell_type": "markdown",
   "metadata": {},
   "source": [
    "<div class=\"panel panel-info\">\n",
    "    <div class=\"panel-heading\">\n",
    "        <p><i class=\"fa fa-info-circle\" aria-hidden=\"true\"></i> More Information</p>\n",
    "    </div>\n",
    "    <div class=\"panel-body\">\n",
    "    <p>The `print` function can be used to print information after the *Code Cell*. For example `print(st)` will print the value that the name `st` references.</p>\n",
    "    </div>\n",
    "</div>"
   ]
  },
  {
   "cell_type": "markdown",
   "metadata": {},
   "source": [
    "## Variable names\n",
    "\n",
    "Programmers generally choose names for their variables that are meaningful - they document what the variable is used for. Variable names can be as long as you like. They can contain both letters and numbers, but they can’t begin with a number.\n",
    "\n",
    "Names are case sensitive therefore the name `Value1`, `VALUE1` and `VaLuE1` are distinct and each can be bound to the same or to different objects."
   ]
  },
  {
   "cell_type": "code",
   "execution_count": null,
   "metadata": {},
   "outputs": [],
   "source": [
    "Value1 = 10\n",
    "VALUE1 = 20\n",
    "VaLuE1 = 30\n",
    "print(Value1, VALUE1, VaLuE1)"
   ]
  },
  {
   "cell_type": "markdown",
   "metadata": {},
   "source": [
    "It is legal to use uppercase letters, but it is conventional to use only lower case for variables names. The underscore character, `_`, can also appear in a name and it is often used in names with multiple words, such as `your_name` or `airspeed_of_unladen_swallow`.\n",
    "\n",
    "Names should be at least 3 characters in length and descriptive and should not be any of the *Python* keywords - execute `help(’keywords’)` in a *Code Cell* to see the list:"
   ]
  },
  {
   "cell_type": "code",
   "execution_count": null,
   "metadata": {},
   "outputs": [],
   "source": [
    "help('keywords')"
   ]
  },
  {
   "cell_type": "markdown",
   "metadata": {},
   "source": [
    "If you give a variable an illegal name, you get a syntax error, for example:"
   ]
  },
  {
   "cell_type": "code",
   "execution_count": null,
   "metadata": {},
   "outputs": [],
   "source": [
    "76trombones = 50.235"
   ]
  },
  {
   "cell_type": "code",
   "execution_count": null,
   "metadata": {},
   "outputs": [],
   "source": [
    "more@ = 1000000"
   ]
  },
  {
   "cell_type": "code",
   "execution_count": null,
   "metadata": {},
   "outputs": [],
   "source": [
    "class = 68"
   ]
  },
  {
   "cell_type": "markdown",
   "metadata": {},
   "source": [
    "`76trombones` is illegal because it begins with a number. `more@` is illegal because it contains an illegal character, `@` and `class` is illegal because it is one of *Python*'s keywords."
   ]
  },
  {
   "cell_type": "markdown",
   "metadata": {},
   "source": [
    "## Expressions and statements"
   ]
  },
  {
   "cell_type": "markdown",
   "metadata": {},
   "source": [
    "A **statement** is a unit of code that has an effect, like creating a variable or displaying an object."
   ]
  },
  {
   "cell_type": "code",
   "execution_count": null,
   "metadata": {},
   "outputs": [],
   "source": [
    "n = 17\n",
    "print(n)"
   ]
  },
  {
   "cell_type": "markdown",
   "metadata": {},
   "source": [
    "The first line is an assignment statement that gives a value to `n`. The second line is a print statement that displays the value of `n`.\n",
    "\n",
    "When you type a statement, the interpreter executes it, which means that it does whatever the statement says. In general, statements don’t have objects.\n",
    "\n",
    "An **expression** is a combination of objects, variables, and operators. An object all by itself is considered an expression, and so is a variable, so the following are all legal expressions:"
   ]
  },
  {
   "cell_type": "code",
   "execution_count": null,
   "metadata": {},
   "outputs": [],
   "source": [
    "42"
   ]
  },
  {
   "cell_type": "code",
   "execution_count": null,
   "metadata": {},
   "outputs": [],
   "source": [
    "n"
   ]
  },
  {
   "cell_type": "code",
   "execution_count": null,
   "metadata": {},
   "outputs": [],
   "source": [
    "n + 25"
   ]
  },
  {
   "cell_type": "markdown",
   "metadata": {},
   "source": [
    "When you type an expression at the prompt, the interpreter **evaluates** it, which means that it finds the value of the expression. In this example, `n` has the value `17` and `n + 25` has the value `42`."
   ]
  },
  {
   "cell_type": "markdown",
   "metadata": {},
   "source": [
    "## Code comments\n",
    "\n",
    "As programs get bigger and more complicated, they get more difficult to read. Formal languages are dense, and it is often difficult to look at a piece of code and figure out what it is doing, or why.\n",
    "\n",
    "For this reason, it is a good idea to add notes to your programs to explain in natural language what the program is doing. These notes are called comments, and they start with the `#` symbol:"
   ]
  },
  {
   "cell_type": "code",
   "execution_count": null,
   "metadata": {},
   "outputs": [],
   "source": [
    "# compute the percentage of the hour that has elapsed\n",
    "minute = 12\n",
    "percentage = (minute * 100) / 60\n",
    "print(percentage)"
   ]
  },
  {
   "cell_type": "markdown",
   "metadata": {},
   "source": [
    "In this case, the comment appears on a line by itself. You can also put comments at the end of a line:"
   ]
  },
  {
   "cell_type": "code",
   "execution_count": null,
   "metadata": {},
   "outputs": [],
   "source": [
    "minute = 12\n",
    "percentage = (minute * 100) / 60  # percentage of an hour\n",
    "print(percentage)"
   ]
  },
  {
   "cell_type": "markdown",
   "metadata": {},
   "source": [
    "Everything from the `#` to the end of the line is ignored - it has no effect on the execution of the program."
   ]
  },
  {
   "cell_type": "markdown",
   "metadata": {},
   "source": [
    "Comments are most useful when they document non-obvious features of the code. It is reasonable to assume that the reader can figure out *what* the code does; it is more useful to explain *why*.\n",
    "\n",
    "This comment is redundant with the code and useless:"
   ]
  },
  {
   "cell_type": "code",
   "execution_count": null,
   "metadata": {},
   "outputs": [],
   "source": [
    "v = 5  # assign 5 to v"
   ]
  },
  {
   "cell_type": "markdown",
   "metadata": {},
   "source": [
    "This comment contains useful information that is not in the code:"
   ]
  },
  {
   "cell_type": "code",
   "execution_count": null,
   "metadata": {},
   "outputs": [],
   "source": [
    "v = 5  # velocity in meters/second."
   ]
  },
  {
   "cell_type": "markdown",
   "metadata": {},
   "source": [
    "Good variable names can reduce the need for comments, but long names can make complex expressions hard to read, so there is a tradeoff."
   ]
  },
  {
   "cell_type": "markdown",
   "metadata": {},
   "source": [
    "## Flow of execution"
   ]
  },
  {
   "cell_type": "markdown",
   "metadata": {},
   "source": [
    "The order statements run in is called the flow of execution. Execution always begins at the first statement of the *Code Cell*. Statements are run one at a time, in order from top to bottom. Consider the following example:"
   ]
  },
  {
   "cell_type": "code",
   "execution_count": null,
   "metadata": {},
   "outputs": [],
   "source": [
    "foo = 2.2\n",
    "bar = foo + 3.2\n",
    "print(bar)\n",
    "\n",
    "foo = 4.2\n",
    "bar = foo + 3.2\n",
    "print(bar)"
   ]
  },
  {
   "cell_type": "markdown",
   "metadata": {},
   "source": [
    "Executing the *Code Cell* above does the following:\n",
    "- Line 1: Creates the object `2.2` in memory and binds the name `foo` to this object\n",
    "- Line 2:\n",
    "    - `RHS`: Looks up the value of the name `foo` (which is `2.2`)\n",
    "    - `RHS`: Creates the object `3.2` in memory\n",
    "    - `RHS`: Adds the `2.2` object to the `3.2` object to get the `5.4` object (which is also created in memory)\n",
    "    - `LHS`: The name `bar` is then bound to this `5.4` object\n",
    "- Line 3: Displays the value of the name `bar` below the *Code Cell*\n",
    "- Line 5: \n",
    "    - Creates the object `4.2` in memory and \n",
    "    - Re-binds the name `foo` to this object (thus removing the previous binding to the `2.2` object)\n",
    "- Line 6:\n",
    "    - Evaluates the result of `foo + 3.2` again (similar to line 2) to get the `7.4` object (which is also created in memory)\n",
    "    - The name `bar` is then re-bound to this `7.4` object\n",
    "- Line 7: Displays the value of the name `bar` below the *Code Cell*"
   ]
  },
  {
   "cell_type": "markdown",
   "metadata": {},
   "source": [
    "<div class=\"panel panel-danger\">\n",
    "    <div class=\"panel-heading\">\n",
    "        <p><i class=\"fa fa-exclamation-triangle\" aria-hidden=\"true\"></i> Take Note</p>\n",
    "    </div>\n",
    "    <div class=\"panel-body\">\n",
    "        <p>*Python* executes a *Code Cell* systematically (one line at a time) from the first line in the *Code Cell* to the last line in the *Code Cell*. *Python* does not jump (or look) ahead, and only has information about objects and names created in previous lines of code.</p>\n",
    "        <p>Also keep in mind that the `RHS` of the `=` must be known, I.e. all the quantities (numbers, other names and objects) that appear to the right of the equal sign must be known or can be evalutated. Therefore, make sure that a object has been bound to a name before you use that name to the `RHS` of the `=` sign.</p>\n",
    "        <p>The following example gives an error because not all objects to the `RHS` of the `=` are known when line 1 is executed:</p>\n",
    "    </div>\n",
    "</div>"
   ]
  },
  {
   "cell_type": "code",
   "execution_count": null,
   "metadata": {},
   "outputs": [],
   "source": [
    "foo = x + 100\n",
    "x = 0.2"
   ]
  },
  {
   "cell_type": "markdown",
   "metadata": {},
   "source": [
    "## Nbtutor\n",
    "\n",
    "To expand on the name assignment and flow of execution behaviour in *Python* we will make use of the Notebook extension [nbtutor](https://github.com/lgpage/nbtutor) which can be installed following the instructions given on GitHub (https://github.com/lgpage/nbtutor). Nbtutor will allow us to execute the code inside a *Code Cell* one line at a time to see what *Python* is doing."
   ]
  },
  {
   "cell_type": "markdown",
   "metadata": {},
   "source": [
    "To use nbtutor we first need to tell the Notebook what nbtutor is. This is done by executing `%load_ext nbtutor` is a *Code Cell*:"
   ]
  },
  {
   "cell_type": "code",
   "execution_count": null,
   "metadata": {},
   "outputs": [],
   "source": [
    "%load_ext nbtutor"
   ]
  },
  {
   "cell_type": "markdown",
   "metadata": {},
   "source": [
    "<div class=\"panel panel-info\">\n",
    "    <div class=\"panel-heading\">\n",
    "        <p><i class=\"fa fa-info-circle\" aria-hidden=\"true\"></i> More Information</p>\n",
    "    </div>\n",
    "    <div class=\"panel-body\">\n",
    "    <p>Loading the nbtutor extension only needs to be done once (for each Notebook opened, that uses nbtutor).</p>\n",
    "    <p>Lines starting with a single or double `%` symbol are called magic functions. These lines are not strictly *Python* code statements, but are specific to the *IPython* (**I**nteractive **Python**) interpreter that is used in *Jupyter Notebook*</p>\n",
    "    <p>Execute `%magic` in a *Code Cell* for more information about *IPython* magic functions</p>\n",
    "    </div>\n",
    "</div>"
   ]
  },
  {
   "cell_type": "code",
   "execution_count": null,
   "metadata": {},
   "outputs": [],
   "source": [
    "%magic"
   ]
  },
  {
   "cell_type": "markdown",
   "metadata": {},
   "source": [
    "To visualize the code (in **any** *Code Cell*) add `%%nbtutor -r -f` as line 1 of the *Code Cell*, for example:"
   ]
  },
  {
   "cell_type": "code",
   "execution_count": null,
   "metadata": {},
   "outputs": [],
   "source": [
    "%%nbtutor -r -f\n",
    "foo = 1\n",
    "bar = 1\n",
    "bar = 2\n",
    "eggs = foo + bar\n",
    "print(eggs)"
   ]
  },
  {
   "cell_type": "markdown",
   "metadata": {},
   "source": [
    "Execute the *Code Cell* and step through the code execution line-by-line. Executing the *Code Cell* above does the following:\n",
    "- Line 1: The object `1` is created in memory and the name `foo` is bound to that object. In other words the name `foo` points to the object `1`.\n",
    "- Line 2:\n",
    "    - Another name `bar` is also bound to the same object `1` (The object `1` was already created in memory in line 1)\n",
    "    - So at this point there are two names (`foo` and `bar`) bound to the same object `1`\n",
    "- Line 3: The object `2` is created in memory and the name `bar` is re-bound to this new object `2` (thus removing the previous binding to the object `1`)\n",
    "- Line 4:\n",
    "    - The objects `1` and `2` are added together and the resulting object `3` is created in memory\n",
    "    - The name `eggs` is then bound to this resulting object `3`."
   ]
  },
  {
   "cell_type": "markdown",
   "metadata": {},
   "source": [
    "<div class=\"panel panel-danger\">\n",
    "    <div class=\"panel-heading\">\n",
    "        <p><i class=\"fa fa-exclamation-triangle\" aria-hidden=\"true\"></i> Take Note</p>\n",
    "    </div>\n",
    "    <div class=\"panel-body\">\n",
    "        <p>Objects in memory can have multiply names bound to them. In other words multiple names can point to the same object in memory.</p>\n",
    "    </div>\n",
    "</div>"
   ]
  },
  {
   "cell_type": "markdown",
   "metadata": {},
   "source": [
    "<div class=\"panel panel-info\">\n",
    "    <div class=\"panel-heading\">\n",
    "        <p><i class=\"fa fa-info-circle\" aria-hidden=\"true\"></i> More Information</p>\n",
    "    </div>\n",
    "    <div class=\"panel-body\">\n",
    "    <p>If you wish to execute the *Code Cell* without visualizing the code, either comment out or delete the `%%nbtutor` line</p>\n",
    "    <p>The `-r` option, following `%%nbtutor`, resets (clears) the Notebook namespace prior to executing the *Code Cell* and the `-f` option forces the reset without asking for confirmation. Notebook namespace is discussed in more detail in the next section.</p>\n",
    "    </div>\n",
    "</div>"
   ]
  },
  {
   "cell_type": "markdown",
   "metadata": {},
   "source": [
    "## Notebook namespace\n",
    "\n",
    "A very important concept that needs to be discussed (especially when using *Jupyter Notebooks*) is namespace. In *Python* namespace refers to the space in which a name is created when you execute a *Code Cell*. More formally a namespace is a mapping from names to objects.\n",
    "\n",
    "You can consider this namespace as a blank piece of paper (at least it is blank when you first open a *Notebook*). Every time you execute a *Code Cell* that defines a name, that name is put onto this piece of paper. You can view all names (and the objects these names point to) on this piece of paper by executing `%whos` in a *Code Cell*, for example:"
   ]
  },
  {
   "cell_type": "code",
   "execution_count": null,
   "metadata": {},
   "outputs": [],
   "source": [
    "%whos"
   ]
  },
  {
   "cell_type": "markdown",
   "metadata": {},
   "source": [
    "Each *Notebook* has its own namespace that it puts names onto (when these names are defined by executing *Code Cell*s), this is termed the *global namespace* or *global frame* for the *Notebook*."
   ]
  },
  {
   "cell_type": "markdown",
   "metadata": {},
   "source": [
    "<div class=\"panel panel-danger\">\n",
    "    <div class=\"panel-heading\">\n",
    "        <p><i class=\"fa fa-exclamation-triangle\" aria-hidden=\"true\"></i> Take Note</p>\n",
    "    </div>\n",
    "    <div class=\"panel-body\">\n",
    "        <p>It is the action of executing a *Code Cell* with an assignment statement that adds a mapping from the name to the object in *Python*'s namespace and not the action of typing an assignment statement in a *Code Cell*.</p>\n",
    "    </div>\n",
    "</div>"
   ]
  },
  {
   "cell_type": "markdown",
   "metadata": {},
   "source": [
    "To manually clear the namespace you can either restart the kernel by selecting `Kernel` $\\to$ `Restart` in the menu bar above; or you can execute `%reset` in a *Code Cell*. This is usually only done for debugging purposes or *nbtutor* visualizations."
   ]
  },
  {
   "cell_type": "code",
   "execution_count": null,
   "metadata": {},
   "outputs": [],
   "source": [
    "%reset"
   ]
  },
  {
   "cell_type": "markdown",
   "metadata": {},
   "source": [
    "<div class=\"panel panel-info\">\n",
    "    <div class=\"panel-heading\">\n",
    "        <p><i class=\"fa fa-info-circle\" aria-hidden=\"true\"></i> More Information</p>\n",
    "    </div>\n",
    "    <div class=\"panel-body\">\n",
    "    <p>A `-f` option can be added following `%reset` to force the reset without asking for confirmation</p>\n",
    "    </div>\n",
    "</div>"
   ]
  },
  {
   "cell_type": "code",
   "execution_count": null,
   "metadata": {},
   "outputs": [],
   "source": [
    "%whos"
   ]
  },
  {
   "cell_type": "code",
   "execution_count": null,
   "metadata": {},
   "outputs": [],
   "source": [
    "foo = 100"
   ]
  },
  {
   "cell_type": "code",
   "execution_count": null,
   "metadata": {},
   "outputs": [],
   "source": [
    "%whos"
   ]
  },
  {
   "cell_type": "markdown",
   "metadata": {},
   "source": [
    "Consider the following 3 *Code Cell*s. The *Code Cell*s are designated `One`, `Two`, and `Three` by a code comment at the top of each *Code Cell*."
   ]
  },
  {
   "cell_type": "code",
   "execution_count": null,
   "metadata": {},
   "outputs": [],
   "source": [
    "# Code Cell One\n",
    "this = 100"
   ]
  },
  {
   "cell_type": "code",
   "execution_count": null,
   "metadata": {},
   "outputs": [],
   "source": [
    "# Code Cell Two\n",
    "other = this + that\n",
    "print(other)"
   ]
  },
  {
   "cell_type": "code",
   "execution_count": null,
   "metadata": {},
   "outputs": [],
   "source": [
    "# Code Cell Three\n",
    "that = 1.5"
   ]
  },
  {
   "cell_type": "markdown",
   "metadata": {},
   "source": [
    "If these *Code Cell*s are executed in the order `One`, `Two`, and then `Three` you will get a `NameError` when executing *Code Cell* `Two` because the name `that` has not been defined (has not been added to the *namespace*) after executing *Code Cell* `One`. In more detail the following happens:\n",
    "\n",
    "- *Code Cell* `One`:\n",
    "    - Creates the object `100` in memory and binds the name `this` to the `100` object\n",
    "    - The name `this` is defined in the *global namespace*\n",
    "\n",
    "\n",
    "- *Code Cell* `Two`:\n",
    "    - `RHS`: Looks for the name `this` in the *global namespace* and finds it\n",
    "    - `RHS`: Looks up the value of the name `this` (which is `100`)\n",
    "    - `RHS`: Looks for the name `that` in the *global namespace*, but does not find it\n",
    "    - `RHS`: Gives an error because the name `that` was not found (not defined) in the *global namespace*"
   ]
  },
  {
   "cell_type": "markdown",
   "metadata": {},
   "source": [
    "However, if these *Code Cell*s are executed in the order `One`, `Three`, and then `Two` it works, you will get the output of `101.5`. In more detail the following happens:\n",
    "\n",
    "- *Code Cell* `One`:\n",
    "    - Creates the object `100` in memory and binds the name `this` to the `100` object\n",
    "    - The name `this` is defined in the *global namespace*\n",
    "\n",
    "\n",
    "- *Code Cell* `Three`:\n",
    "    - Creates the object `1.5` in memory and binds the name `that` to the `1.5` object\n",
    "    - The name `that` is also defined in the *global namespace*\n",
    "\n",
    "\n",
    "- *Code Cell* `Two`:\n",
    "    - `RHS`: Looks for the name `this` in the *global namespace* and finds it\n",
    "    - `RHS`: Looks up the value of the name `this` (which is `100`)\n",
    "    - `RHS`: Looks for the name `that` in the *global namespace* and now finds it\n",
    "    - `RHS`: Looks up the value of the name `that` (which is `1.5`)\n",
    "    - `RHS`: Adds `100` to `1.5` to get the `101.5` object (which is created in memory)\n",
    "    - `LHS`: The name `other` is bound to the resulting `101.5` object\n",
    "    - The name `other` is also defined in the *global namespace*"
   ]
  },
  {
   "cell_type": "markdown",
   "metadata": {},
   "source": [
    "<div class=\"panel panel-danger\">\n",
    "    <div class=\"panel-heading\">\n",
    "        <p><i class=\"fa fa-exclamation-triangle\" aria-hidden=\"true\"></i> Take Note</p>\n",
    "    </div>\n",
    "    <div class=\"panel-body\">\n",
    "        <p>This can very be dangerous at times and may lead to unexpected behavior if you are not careful. Consider the following hypothetical case: You have created a program in a *Code Cell* lower down in a *Notebook*; This program relies on several constants in a certain calculation; You have defined all of these constants but one; Your program executes without any errors but does not give the correct output; You spend several hours going over and over and over your code to try find the problem, only to realize the constant you forgot to define was defined in a *Code Cell* earlier on in the *Notebook*. This is a form of semantic (or logic) error.</p>\n",
    "        <p>Because of this reason this textbook will always present examples and code in \"self contained\" *Code Cell*s. In other words all *Code Cell*s in this textbook will be indepedant of other *Code Cell*s. It is also highly recommended you create independant programs or code in *Code Cell*s that can be executed independantly of other *Code Cell*s, the exception being for functions - which will be discussed at a later stage.</p>\n",
    "    </div>\n",
    "</div>"
   ]
  },
  {
   "cell_type": "markdown",
   "metadata": {},
   "source": [
    "<div class=\"panel panel-info\">\n",
    "    <div class=\"panel-heading\">\n",
    "        <p><i class=\"fa fa-info-circle\" aria-hidden=\"true\"></i> More Information</p>\n",
    "    </div>\n",
    "    <div class=\"panel-body\">\n",
    "    <p>The term semantic (or logic) error refers to a program or code that executes without giving any errors, but does not give the correct result or output. The first step in trying to fix a logic error should be to clear the *global namespace* and then only execute the *Code Cell* with your program or code in it.</p>\n",
    "    </div>\n",
    "</div>"
   ]
  },
  {
   "cell_type": "markdown",
   "metadata": {},
   "source": [
    "### Assignment Operators\n",
    "\n",
    "The same name on the `LHS` of the `=` sign can also be used on the `RHS` of the `=` sign, as long as it is known (can be evaluated).\n",
    "Remember that everything on the `RHS` of the `=` has to be known or defined whereas there is only one name on the `LHS` of the `=` sign."
   ]
  },
  {
   "cell_type": "code",
   "execution_count": null,
   "metadata": {},
   "outputs": [],
   "source": [
    "number = 5\n",
    "number = number + 3\n",
    "\n",
    "print(number)"
   ]
  },
  {
   "cell_type": "markdown",
   "metadata": {},
   "source": [
    "Executing the *Code Cell* above gives the ouput `8`. Looking at each statement more closely, the *Code Cell* above does the following:\n",
    "- Line 1:\n",
    "    - Creates the object `5` in memory and binds the the name `number` to the `5` object\n",
    "    - Because the name `number` is known (defined), it can be used on the `RHS` of the `=` sign.\n",
    "- Line 2:\n",
    "    - The `RHS` of the `=` sign gets computed first:\n",
    "        - The value of the name `number` is looked up (which is `5`)\n",
    "        - This `5` object is added to the `3` object to get `8` (which is created in memory)\n",
    "    - The name `number` is then bound to the resulting `8` object"
   ]
  },
  {
   "cell_type": "code",
   "execution_count": null,
   "metadata": {},
   "outputs": [],
   "source": [
    "number = 5\n",
    "number = number + 3\n",
    "number = number * 2\n",
    "\n",
    "print(number)"
   ]
  },
  {
   "cell_type": "markdown",
   "metadata": {},
   "source": [
    "Similarly, executing the *Code Cell* above gives the output `16` and the name `number` is now bound to the object `16`.\n",
    "\n",
    "There is also a short-hand syntax (know as *Assignment Operators*) for modifying variables in this fashion, for example:"
   ]
  },
  {
   "cell_type": "code",
   "execution_count": null,
   "metadata": {},
   "outputs": [],
   "source": [
    "number = 5\n",
    "number += 3\n",
    "number *= 2\n",
    "\n",
    "print(number)"
   ]
  },
  {
   "cell_type": "markdown",
   "metadata": {},
   "source": [
    "The following table shows a summary of the assignment operators:\n",
    "\n",
    "  | Computation    | Example          | Operator    |\n",
    "  | --------------:|:---------------- |:----------- |\n",
    "  |       Addition | `foo = foo + 10` | `foo += 10` |\n",
    "  |    Subtraction | `foo = foo - 10` | `foo -= 10` |\n",
    "  | Multiplication | `foo = foo * 2`  | `foo *= 2`  |\n",
    "  |       Division | `foo = foo / 2`  | `foo /= 2`  |\n",
    "  |          Power | `foo = foo ** 2` | `foo **= 2` |"
   ]
  },
  {
   "cell_type": "markdown",
   "metadata": {},
   "source": [
    "<div class=\"panel panel-info\">\n",
    "    <div class=\"panel-heading\">\n",
    "        <p><i class=\"fa fa-info-circle\" aria-hidden=\"true\"></i> More Information</p>\n",
    "    </div>\n",
    "    <div class=\"panel-body\">\n",
    "    <p>This is a powerful technique which comes in handy in many situations. Using names in this fashion allows you to remember what you have computed so far using the same name, and reduces the number of names needed in your programs. Play around with these operators and make sure you are comfortable with both methods of updating / changing the same variable.</p>\n",
    "    </div>\n",
    "</div>"
   ]
  },
  {
   "cell_type": "markdown",
   "metadata": {},
   "source": [
    "## Debugging\n",
    "\n",
    "Programmers make mistakes. For whimsical reasons, programming errors are called bugs and the process of tracking them down is called debugging.\n",
    "\n",
    "Programming, and especially debugging, sometimes brings out strong emotions. If you are struggling with a difficult bug, you might feel angry, despondent, or embarrassed.\n",
    "\n",
    "There is evidence that people naturally respond to computers as if they were people. When they work well, we think of them as teammates, and when they are obstinate or rude, we respond to them the same way we respond to rude, obstinate people (Reeves and Nass, *The Media Equation: How People Treat Computers, Television, and New Media Like Real People and Places*).\n",
    "\n",
    "Preparing for these reactions might help you deal with them. One approach is to think of the computer as an employee with certain strengths, like speed and precision, and particular weaknesses, like lack of empathy and inability to grasp the big picture.\n",
    "\n",
    "Your job is to be a good manager: find ways to take advantage of the strengths and mitigate the weaknesses and find ways to use your emotions to engage with the problem, without letting your reactions interfere with your ability to work effectively.\n",
    "\n",
    "Learning to debug can be frustrating, but it is a valuable skill that is useful for many activities beyond programming. At the end of each chapter there is a section, like this one, with my suggestions for debugging. I hope they help!"
   ]
  },
  {
   "cell_type": "markdown",
   "metadata": {},
   "source": [
    "Three kinds of errors can occur in a program: syntax errors, runtime errors, and semantic errors. It is useful to distinguish between them in order to track them down more quickly.\n",
    "\n",
    "**Syntax error**: “Syntax” refers to the structure of a program and the rules about that structure. For example, parentheses have to come in matching pairs, so `(1 + 2)` is legal, but `8)` is a syntax error. If there is a syntax error anywhere in your program, *Python* displays an error message and quits, and you will not be able to run the program. During the first few weeks of your programming career, you might spend a lot of time tracking down syntax errors. As you gain experience, you will make fewer errors and find them faster.\n",
    "\n",
    "**Runtime error**: The second type of error is a runtime error, so called because the error does not appear until after the program has started running. These errors are also called exceptions because they usually indicate that something exceptional (and bad) has happened. Runtime errors are rare in the simple programs you will see in the first few chapters, so it might be a while before you encounter one.\n",
    "\n",
    "**Semantic error**: The third type of error is “semantic”, which means related to meaning. If there is a semantic error in your program, it will run without generating error messages, but it will not do the right thing. It will do something else. Specifically, it will do what you told it to do. Identifying semantic errors can be tricky because it requires you to work backward by looking at the output of the program and trying to figure out what it is doing."
   ]
  },
  {
   "cell_type": "markdown",
   "metadata": {},
   "source": [
    "## Glossary\n",
    "\n",
    "**assignment**: A statement that assigns a value to a variable.\n",
    "\n",
    "**bug**: An error in a program.\n",
    "\n",
    "**comment**: Information in a program that is meant for other programmers (or anyone reading the source code) and has no effect on the execution of the program.\n",
    "\n",
    "**debugging**: The process of finding and correcting bugs.\n",
    "\n",
    "**evaluate**: To simplify an expression by performing the operations in order to yield a single value.\n",
    "\n",
    "**exception**: An error that is detected while the program is running.\n",
    "\n",
    "**execute**: To run a statement and do what it says.\n",
    "\n",
    "**expression**: A combination of variables, operators, and values that represents a single result.\n",
    "\n",
    "**float**: A type that represents numbers with fractional parts.\n",
    "\n",
    "**flow of execution**: The order statements run in.\n",
    "\n",
    "**integer**: A type that represents whole numbers.\n",
    "\n",
    "**keyword**: A reserved word that is used to parse a program; you cannot use keywords like `if`, `def`, and `while` as variable names.\n",
    "\n",
    "**namespace**: A mapping from names to objects.\n",
    "\n",
    "**object**: One of the basic units of data, like a number or string, that a program manipulates.\n",
    "\n",
    "**operand**: One of the values on which an operator operates.\n",
    "\n",
    "**operator**: A special symbol that represents a simple computation like addition, multiplication, or string concatenation.\n",
    "\n",
    "**order of operations**: Rules governing the order in which expressions involving multiple operators and operands are evaluated.\n",
    "\n",
    "**print statement**: An instruction that causes the Python interpreter to display a value on the screen.\n",
    "\n",
    "**program**: A set of instructions that specifies a computation.\n",
    "\n",
    "**prompt**: Characters displayed by the interpreter to indicate that it is ready to take input from the user.\n",
    "\n",
    "**semantics**: The meaning of a program.\n",
    "\n",
    "**semantic error**: An error in a program that makes it do something other than what the programmer intended.\n",
    "\n",
    "**statement**: A section of code that represents a command or action. So far, the statements we have seen are assignments and print statements.\n",
    "\n",
    "**syntax**: The rules that govern the structure of a program.\n",
    "\n",
    "**syntax error**: An error in a program that makes it impossible to parse (and therefore impossible to interpret).\n",
    "\n",
    "**variable**: A name that refers to a value."
   ]
  },
  {
   "cell_type": "markdown",
   "metadata": {},
   "source": [
    "## Exercises"
   ]
  },
  {
   "cell_type": "markdown",
   "metadata": {},
   "source": [
    "1) Whenever you are experimenting with a new feature, you should try to make mistakes. This kind of experiment helps you remember what you read; it also helps when you are programming, because you get to know what the error messages mean. It is better to make mistakes now and on purpose than later and accidentally.\n",
    "\n",
    "- In a print statement, what happens if you leave out one of the parentheses, or both?\n",
    "- You can use a minus sign to make a negative number like `-2`. What happens if you put a plus sign before a number? What about `2++2`?\n",
    "- In math notation, leading zeros are ok, as in `02`. What happens if you try this in *Python*?\n",
    "- What happens if you have two values with no operator between them?"
   ]
  },
  {
   "cell_type": "markdown",
   "metadata": {},
   "source": [
    "2) How many seconds are there in 42 minutes 42 seconds?"
   ]
  },
  {
   "cell_type": "markdown",
   "metadata": {},
   "source": [
    "3) How many kilometers are there in 10 miles?\n",
    "\n",
    "*Hint:* there are 1.61 kilometers in a mile."
   ]
  },
  {
   "cell_type": "markdown",
   "metadata": {},
   "source": [
    "4) If you run a 10 mile race in 42 minutes 42 seconds, what is your average pace (time per kilometers in minutes and seconds)? What is your average speed in kilometers per hour?"
   ]
  },
  {
   "cell_type": "markdown",
   "metadata": {},
   "source": [
    "5) For each term in the expression below, which arithmetic operation (terms) does *Python* compute first?\n",
    "\n",
    "$$\n",
    "    (300-154)/(11/2+16\\times6)\n",
    "$$"
   ]
  },
  {
   "cell_type": "markdown",
   "metadata": {},
   "source": [
    "6) For each term in the expression below, which arithmetic operation (terms) does *Python* compute first?\n",
    "\n",
    "$$\n",
    "    300-154/11/2+16\\times6\n",
    "$$"
   ]
  },
  {
   "cell_type": "markdown",
   "metadata": {},
   "source": [
    "7) What is the value of $154/11/2$?\n",
    "- Does `154` first get divided by `11` to give `14` which is then divided by `2`?\n",
    "- Or does `11` get divided by `2` to give `5.5` such that `154` can be divided by `5.5`?"
   ]
  },
  {
   "cell_type": "markdown",
   "metadata": {},
   "source": [
    "8) Identify the order in which the operations will execute by placing round brackets `()` around the operations that execute together (for example $12 + 3\\times4 = (12 + (3\\times4))$):\n",
    "\n",
    "$$\n",
    "    250-350/35/5+125\\times3^2/2\n",
    "$$"
   ]
  },
  {
   "cell_type": "markdown",
   "metadata": {},
   "source": [
    "9). Compute the answer of \n",
    "\n",
    "$$\n",
    "    \\frac{154-17}{29+54\\times3}\n",
    "$$"
   ]
  },
  {
   "cell_type": "markdown",
   "metadata": {},
   "source": [
    "10). Compute the answer of\n",
    "\n",
    "$$\n",
    "    154 - \\frac{17}{29}+54\\times3\n",
    "$$"
   ]
  },
  {
   "cell_type": "markdown",
   "metadata": {},
   "source": [
    "11) We’ve seen that `n = 42` is legal. How about `x = y = 1`?"
   ]
  },
  {
   "cell_type": "markdown",
   "metadata": {},
   "source": [
    "12) Which operators (terms) are executed first when executing `calc = 5*5*5 + 4*4`"
   ]
  },
  {
   "cell_type": "markdown",
   "metadata": {},
   "source": [
    "13) In math notation you can multiply `x` and `y` like this: `xy`. What happens if you try that in *Python*?"
   ]
  },
  {
   "cell_type": "markdown",
   "metadata": {},
   "source": [
    "14) In math notation you can multiply `x` and `(y + z)` like this: `x(y + z)`. What happens if you try that in *Python*?"
   ]
  },
  {
   "cell_type": "markdown",
   "metadata": {},
   "source": [
    "15) The volume of a sphere with radius `r` is $\\frac{4}{3} \\pi r^3$. What is the volume of a sphere with radius 5?"
   ]
  },
  {
   "cell_type": "markdown",
   "metadata": {},
   "source": [
    "16) Redo the computation `calc = 5*5*5 + 4*4` using the `**` operator instead of the `*` operator"
   ]
  },
  {
   "cell_type": "markdown",
   "metadata": {},
   "source": [
    "17) Suppose the cover price of a book is R149.95, but bookstores get a 40% discount. Shipping costs R25.00 for the first copy and R1.50 for each additional copy. What is the total wholesale cost for 60 copies?"
   ]
  },
  {
   "cell_type": "markdown",
   "metadata": {},
   "source": [
    "18). Compute the terminal velocity of a body in a non-dense medium by using the following:\n",
    "\n",
    "$$\n",
    "    v_t = \\sqrt{\\frac{2mg}{\\rho A C_d}}\n",
    "$$\n",
    "    \n",
    "with:\n",
    "\n",
    "- $C_d = 0.2$ − coefficient of drag (dimensionless)\n",
    "- $m = 80$ − mass($kg$)\n",
    "- $\\rho = 1.225$ − density of medium in which body is falling ($kg/m^3$)\n",
    "- $A = 0.1$ − cross sectional area of body perpendicular to direction of flow ($m^2$)"
   ]
  },
  {
   "cell_type": "code",
   "execution_count": null,
   "metadata": {},
   "outputs": [],
   "source": []
  }
 ],
 "metadata": {
  "anaconda-cloud": {},
  "kernelspec": {
   "display_name": "Python 3",
   "language": "python",
   "name": "python3"
  },
  "language_info": {
   "codemirror_mode": {
    "name": "ipython",
    "version": 3
   },
   "file_extension": ".py",
   "mimetype": "text/x-python",
   "name": "python",
   "nbconvert_exporter": "python",
   "pygments_lexer": "ipython3",
   "version": "3.6.3"
  }
 },
 "nbformat": 4,
 "nbformat_minor": 1
}
