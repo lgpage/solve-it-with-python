{
 "cells": [
  {
   "cell_type": "markdown",
   "metadata": {},
   "source": [
    "<div class=\"jumbotron jumbotron-fluid\">\n",
    "  <div class=\"container\">\n",
    "    <h1 class=\"display-3\">Functions</h1>\n",
    "    <p class=\"lead\">Named sequences of statements that performs some useful operations.</p>\n",
    "  </div>\n",
    "</div>"
   ]
  },
  {
   "cell_type": "markdown",
   "metadata": {},
   "source": [
    "- [Overview](#Overview)\n",
    "- [Function calls](#Function-calls)\n",
    "- [Composition](#Composition)\n",
    "- [Creating new functions](#Creating-new-functions)\n",
    "- [Flow of execution](#Flow-of-execution)\n",
    "- [Function arguments](#Function-arguments)\n",
    "- [Function namespace](#Function-namespace)\n",
    "- [Return objects](#Return-objects)\n",
    "- [Incremental development](#Incremental-development)\n",
    "- [Notebook namespace](#Notebook-namespace)\n",
    "- [Why functions?](#Why-functions?)\n",
    "- [Debugging](#Debugging)\n",
    "- [Glossary](#Glossary)\n",
    "- [Exercises](#Exercises)"
   ]
  },
  {
   "cell_type": "markdown",
   "metadata": {},
   "source": [
    "## Overview\n",
    "\n",
    "In the context of programming, a **function** is a named sequence of programming statements that performs a specific task or computation when called. When you define a function, you specify the name of the function and the sequence of statements that get executed when the function is called. Functions can be called, by name, from other programs or from other functions."
   ]
  },
  {
   "cell_type": "markdown",
   "metadata": {},
   "source": [
    "## Function calls\n",
    "\n",
    "We have already seen **function calls** (the use of functions) in previous chapters, for example the ``radians`` function:"
   ]
  },
  {
   "cell_type": "code",
   "execution_count": null,
   "metadata": {},
   "outputs": [],
   "source": [
    "from numpy import radians\n",
    "\n",
    "radians(90)"
   ]
  },
  {
   "cell_type": "markdown",
   "metadata": {},
   "source": [
    "The name of this function is ``radians`` and it was defined in the ``numpy`` module. This function is given a single argument (``90`` degrees) and returns the equivalent angle in radians. It is common to say that a function \"takes\" an argument and \"returns\" a result. The result is also called the return object."
   ]
  },
  {
   "cell_type": "markdown",
   "metadata": {},
   "source": [
    "<div class=\"panel panel-danger\">\n",
    "    <div class=\"panel-heading\">\n",
    "        <p><i class=\"fa fa-exclamation-triangle\" aria-hidden=\"true\"></i> Take Note</p>\n",
    "    </div>\n",
    "    <div class=\"panel-body\">\n",
    "    <p>It is the parenthese - () - after the function name that instructs <i>Python</i> to call the function. The expressions or objects inside the parenthese are the arguments to the function. Omitting the parenthese is interpreted by <i>Python</i> as \"lookup the object bound to the variable name radians\". Consider the output from running the following <i>Code Cell:</i></p>\n",
    "    </div>\n",
    "</div>"
   ]
  },
  {
   "cell_type": "code",
   "execution_count": null,
   "metadata": {},
   "outputs": [],
   "source": [
    "from numpy import radians\n",
    "\n",
    "radians"
   ]
  },
  {
   "cell_type": "markdown",
   "metadata": {},
   "source": [
    "In the example above we do not know how the ``radians`` function works or what statements are inside this function, we simply take for granted that it works and will correctly return the equivalent angle in radians for an input angle in degrees.\n",
    "\n",
    "For the sake of interest we can verify that this ``radians`` function works correctly, by manually converting ``90`` degrees to radians and comparing the answer to that of the ``radians`` function:"
   ]
  },
  {
   "cell_type": "code",
   "execution_count": null,
   "metadata": {},
   "outputs": [],
   "source": [
    "from numpy import pi\n",
    "\n",
    "90 * pi / 180"
   ]
  },
  {
   "cell_type": "markdown",
   "metadata": {},
   "source": [
    "## Composition\n",
    "\n",
    "So far, we have looked at the elements of a program - variables, objects, expressions, and statements - in isolation, without talking much about how to combine them. One of the most useful features of programming languages is their ability to take small building blocks and **compose** them. For example, the arguments of a function can be any kind of expression, including arithmetic operators or even other function calls:"
   ]
  },
  {
   "cell_type": "code",
   "execution_count": null,
   "metadata": {},
   "outputs": [],
   "source": [
    "import numpy as np\n",
    "\n",
    "degrees = 90\n",
    "x = np.sin(degrees / 360 * 2 * np.pi)\n",
    "print(x)\n",
    "\n",
    "x = np.exp(np.log(x + 1))\n",
    "print(x)"
   ]
  },
  {
   "cell_type": "markdown",
   "metadata": {},
   "source": [
    "<div class=\"panel panel-danger\">\n",
    "    <div class=\"panel-heading\">\n",
    "        <p><i class=\"fa fa-exclamation-triangle\" aria-hidden=\"true\"></i> Take Note</p>\n",
    "    </div>\n",
    "    <div class=\"panel-body\">\n",
    "        <p>The expression inside the function parentheses, for example <code>(degrees / 360 \\* 2 \\* np.pi)</code>, is evaluated first and the result thereof is sent as an argument to the function <code>np.sin</code>. Almost anywhere you can put a value, you can put an arbitrary expression.</p>\n",
    "        <p>Keep in mind that everthing on the right hand side of the assignment (numbers, variables, objects, etc.) must be \"known\" (can be computed). Therefore, make sure that a name has been bound to an object before you use that name on the right of the assignment (equal sign).</p>\n",
    "        <p>Only a variable name is allowed on the left hand side of the equal sign. Any other expression on the left hand side, including function calls, gives a syntax error, for example:</p>\n",
    "    </div>\n",
    "</div>"
   ]
  },
  {
   "cell_type": "code",
   "execution_count": null,
   "metadata": {},
   "outputs": [],
   "source": [
    "import numpy as np\n",
    "\n",
    "degrees = 90\n",
    "np.sin(degrees / 360 * 2 * np.pi) = x\n",
    "print(x)"
   ]
  },
  {
   "cell_type": "markdown",
   "metadata": {},
   "source": [
    "## Creating new functions\n",
    "\n",
    "Programming would be a very difficult task if we could only make use of existing functions.\n",
    "Not only would our programs become very long and difficult to keep track of, but it would also be difficult for a group of programmers to develop different components of a new program simultaneously.\n",
    "So far, we have only been using the functions that come with *Python* or can be found in the ``numpy`` module.\n",
    "Fortunately, almost all programming languages allow for the creating of new functions."
   ]
  },
  {
   "cell_type": "markdown",
   "metadata": {},
   "source": [
    "### Example - Tongue twister\n",
    "\n",
    "As an example, lets create a function that prints a tongue twister to the screen:"
   ]
  },
  {
   "cell_type": "code",
   "execution_count": null,
   "metadata": {},
   "outputs": [],
   "source": [
    "def print_tongue_twister():\n",
    "    print('Fuzzy Wuzzy was a bear.')\n",
    "    print('Fuzzy Wuzzy had no hair.')\n",
    "    print(\"Fuzzy Wuzzy wasn't fuzzy, was he?\")"
   ]
  },
  {
   "cell_type": "markdown",
   "metadata": {},
   "source": [
    "The **function definition** specifies the name of the new function (``print_tongue_twister``) and the sequence of programming statements that run when the function is called.\n",
    "\n",
    "The ``def`` keyword is used to define the new function with a specific function name (in this case ``print_tongue_twister``). The empty parentheses, after the function name, indicates that this function does not take any arguments. The first line of the function definition is called the **function header** and the rest is called the **function body**. The function body can contain any number of programming statements."
   ]
  },
  {
   "cell_type": "markdown",
   "metadata": {},
   "source": [
    "<div class=\"panel panel-danger\">\n",
    "    <div class=\"panel-heading\">\n",
    "        <p><i class=\"fa fa-exclamation-triangle\" aria-hidden=\"true\"></i> Take Note</p>\n",
    "    </div>\n",
    "    <div class=\"panel-body\">\n",
    "        <p>The rules for function names are the same as for variable names: Letters, numbers and underscores are legal, but the first character can't be a number. You should not use a keyword as either a function name or variable name, and you should avoid having a variable and a function with the same name.</p>\n",
    "        <p>The function header must end with a double colon (<code>:</code>). This double colon instructs <i>Python</i> where the statements inside the function body start. If the double colon is left out you will see an error message. Try it out - delete the double colon in the <i>Code Cell</i> above and run it to see the error message.</p>\n",
    "        <p>The function body must be indented. It is this indentation that instructs <i>Python</i> as to which statements belong to the function body. Indentation means the amount of white space placed in front of your code. *Python* uses 4 spaces as 1 indentation.</p>\n",
    "        <p>Executing the <i>Code Cell</i> above only defines the function and does not give any output. This is because the statements in the function body are not executed until the function is called. The function definition must be executed first, to <strong>define</strong> the function, before the function can be called, otherwise you get a <code>NameError</code>.</p>\n",
    "    </div>\n",
    "</div>"
   ]
  },
  {
   "cell_type": "markdown",
   "metadata": {},
   "source": [
    "<div class=\"panel panel-info\">\n",
    "    <div class=\"panel-heading\">\n",
    "        <p><i class=\"fa fa-info-circle\" aria-hidden=\"true\"></i> More Information</p>\n",
    "    </div>\n",
    "    <div class=\"panel-body\">\n",
    "    <p>Most editors (like *Jupyter Notebook*) will automatically add 4 spaces when you push the `tab` key. And `Shift + tab` will automatically remove 4 spaces. This can also be used if you have highlighted several lines of code. Try it !!</p>\n",
    "    <p>The strings in the <code>print</code> statements are enclosed in single and double quotes. Single quotes and double quotes do the same thing; most people use single quotes except in cases like this where a single quote (which is also an apostrophe) appears in the string.</p>\n",
    "        <p>All quotation marks (single and double) must be “straight quotes”, usually located next to Enter on the keyboard. “Curly quotes”, like the ones in this sentence, are not legal in Python.</p>\n",
    "        <p>For more information on valid names, see the PEP8 standard: http://www.python.org/dev/peps/pep-0008/</p>\n",
    "        <p>To see a list of keywords, that should not be used as function names, execute <code>help('keywords')</code> in a <i>Code Cell</i>.</p>\n",
    "    </div>\n",
    "</div>"
   ]
  },
  {
   "cell_type": "markdown",
   "metadata": {},
   "source": [
    "Executing the *Code Cell* above (with the ``print_tongue_twister`` function) only defines the function (no output is given). Defining a function creates a **function object**, with a specified name, which has type ``function`` (note the output of the following two *Code Cell*):"
   ]
  },
  {
   "cell_type": "code",
   "execution_count": null,
   "metadata": {},
   "outputs": [],
   "source": [
    "print(print_tongue_twister)"
   ]
  },
  {
   "cell_type": "code",
   "execution_count": null,
   "metadata": {},
   "outputs": [],
   "source": [
    "type(print_tongue_twister)"
   ]
  },
  {
   "cell_type": "markdown",
   "metadata": {},
   "source": [
    "The syntax for calling this new function is the same as for built-in functions (keeping in mind this function does not take any arguments):"
   ]
  },
  {
   "cell_type": "code",
   "execution_count": null,
   "metadata": {},
   "outputs": [],
   "source": [
    "print_tongue_twister()"
   ]
  },
  {
   "cell_type": "markdown",
   "metadata": {},
   "source": [
    "Once a function has been defined, it can be called (as shown in the *Code Cell* above) or it can be used inside another function. For example, to repeat the tongue twister, we could write a function called ``repeat_twister``:"
   ]
  },
  {
   "cell_type": "code",
   "execution_count": null,
   "metadata": {},
   "outputs": [],
   "source": [
    "def repeat_twister():\n",
    "    print_tongue_twister()\n",
    "    print_tongue_twister()"
   ]
  },
  {
   "cell_type": "markdown",
   "metadata": {},
   "source": [
    "And then call this ``repeat_twister`` function:"
   ]
  },
  {
   "cell_type": "code",
   "execution_count": null,
   "metadata": {},
   "outputs": [],
   "source": [
    "repeat_twister()"
   ]
  },
  {
   "cell_type": "markdown",
   "metadata": {},
   "source": [
    "Pulling together the code fragments above, the whole program looks like this:"
   ]
  },
  {
   "cell_type": "code",
   "execution_count": null,
   "metadata": {},
   "outputs": [],
   "source": [
    "%reset -f\n",
    "\n",
    "def print_tongue_twister():\n",
    "    print(\"Fuzzy Wuzzy was a bear.\")\n",
    "    print(\"Fuzzy Wuzzy had no hair.\")\n",
    "    print(\"Fuzzy Wuzzy wasn't fuzzy, was he?\")\n",
    "\n",
    "\n",
    "def repeat_twister():\n",
    "    print_tongue_twister()\n",
    "    print_tongue_twister()\n",
    "\n",
    "\n",
    "repeat_twister()"
   ]
  },
  {
   "cell_type": "markdown",
   "metadata": {},
   "source": [
    "<div class=\"panel panel-danger\">\n",
    "    <div class=\"panel-heading\">\n",
    "        <p><i class=\"fa fa-exclamation-triangle\" aria-hidden=\"true\"></i> Take Note</p>\n",
    "    </div>\n",
    "    <div class=\"panel-body\">\n",
    "        <p>This program contains two function definitions: <code>print_tongue_twister</code> and <code>repeat_twister</code>. Function definitions get executed just like other statements, but the effect is to create function objects. The statements inside the function do not run until the function is called, and the function definition generates no output.</p>\n",
    "        <p>As you might expect, you have to create a function before you can run it. In other words, the function definition has to run before the function gets called.</p>\n",
    "        <p>As an exercise, move the last line (line 14) of this program to the top (just after the <code>%reset -f</code> line), so the function call appears before the definitions. Run the <i>Code Cell</i> and see what error message you get.</p>\n",
    "        <p>Now move the function call back to the bottom and move the definition of <code>print_tongue_twister</code> after the definition of <code>repeat_twister</code>. What happens when you run this program and why?</p>\n",
    "    </div>\n",
    "</div>"
   ]
  },
  {
   "cell_type": "markdown",
   "metadata": {},
   "source": [
    "## Flow of execution\n",
    "\n",
    "To ensure that a function is defined before its first use, you have to know the order statements run in, which is called the flow of execution. Execution always begins at the first statement of the program. Statements are run one at a time, in order from top to bottom.\n",
    "\n",
    "Function definitions do not alter the flow of execution of the program, but remember that statements inside the function don’t run until the function is called.\n",
    "\n",
    "A function call is like a detour in the flow of execution. Instead of going to the next statement, the flow jumps to the body of the function, runs the statements there, and then comes back to pick up where it left off.\n",
    "\n",
    "That sounds simple enough, until you remember that one function can call another. While in the middle of one function, the program might have to run the statements in another function. Then, while running that new function, the program might have to run yet another function!\n",
    "\n",
    "Fortunately, *Python* is good at keeping track of where it is, so each time a function completes, the program picks up where it left off in the function that called it. When it gets to the end of the program, it terminates.\n",
    "\n",
    "In summary, when you read a program, you don’t always want to read from top to bottom. Sometimes it makes more sense if you follow the flow of execution as if you were *Python*.\n",
    "\n",
    "There is also the added complexity of *Code Cells* and the order in which you execute these *Code Cells* that will be explained in the following sections. For now, execute the following two *Code Cells* and step through the line-by-line execution to ensure you understand the explaination given above:"
   ]
  },
  {
   "cell_type": "code",
   "execution_count": null,
   "metadata": {},
   "outputs": [],
   "source": [
    "%load_ext nbtutor"
   ]
  },
  {
   "cell_type": "code",
   "execution_count": null,
   "metadata": {},
   "outputs": [],
   "source": [
    "%%nbtutor -r -f --depth 3\n",
    "\n",
    "def print_tongue_twister():\n",
    "    print(\"Fuzzy Wuzzy was a bear.\")\n",
    "    print(\"Fuzzy Wuzzy had no hair.\")\n",
    "    print(\"Fuzzy Wuzzy wasn't fuzzy, was he?\")\n",
    "\n",
    "\n",
    "def repeat_twister():\n",
    "    print_tongue_twister()\n",
    "    print_tongue_twister()\n",
    "\n",
    "\n",
    "repeat_twister()"
   ]
  },
  {
   "cell_type": "markdown",
   "metadata": {},
   "source": [
    "## Function arguments\n",
    "\n",
    "In the tongue twister example above, none on the functions we created required any arguments, but many of the functions we have seen before do require arguments. For example, when we call the ``numpy.radians`` function we passed a single number as an argument.\n",
    "\n",
    "Inside the function, the arguments are assigned to variable names called parameters. Here is a definition for a function that takes a single argument:"
   ]
  },
  {
   "cell_type": "code",
   "execution_count": null,
   "metadata": {},
   "outputs": [],
   "source": [
    "def print_twice(thing):\n",
    "    print(thing)\n",
    "    print(thing)"
   ]
  },
  {
   "cell_type": "markdown",
   "metadata": {},
   "source": [
    "When this function is called, the single argument is assigned to the parameter named ``thing`` and the value of the object (whatever is is) is printed twice:"
   ]
  },
  {
   "cell_type": "code",
   "execution_count": null,
   "metadata": {},
   "outputs": [],
   "source": [
    "print_twice(\"Hello\")"
   ]
  },
  {
   "cell_type": "code",
   "execution_count": null,
   "metadata": {},
   "outputs": [],
   "source": [
    "print_twice(42)"
   ]
  },
  {
   "cell_type": "markdown",
   "metadata": {},
   "source": [
    "The same rules of composition that apply to built-in functions also apply to programmer-defined functions, so we can use any kind of expression as an argument for ``print_twice``:"
   ]
  },
  {
   "cell_type": "code",
   "execution_count": null,
   "metadata": {},
   "outputs": [],
   "source": [
    "import numpy as np\n",
    "\n",
    "degrees = 90\n",
    "print_twice(np.sin(np.radians(degrees)))"
   ]
  },
  {
   "cell_type": "markdown",
   "metadata": {},
   "source": [
    "<div class=\"panel panel-danger\">\n",
    "    <div class=\"panel-heading\">\n",
    "        <p><i class=\"fa fa-exclamation-triangle\" aria-hidden=\"true\"></i> Take Note</p>\n",
    "    </div>\n",
    "    <div class=\"panel-body\">\n",
    "        <p>The argument is evaluated before the function is called, so in the example above the expression <code>np.sin(np.radians(degrees))</code> is <strong>only evaluated once</strong> and the result thereof is sent as input to the <code>print_twice</code> function and assigned to the parameter named <code>thing</code>.</p>\n",
    "        <p>The variable name we pass as an argument has nothing to do with the parameter name (<code>thing</code>). It does not matter what the object was called \"back home\" (in the caller); in <code>print_twice</code>, everybody is called <code>thing</code>. For example consider the following <i>Code Cell</i>:</p>\n",
    "    </div>\n",
    "</div>"
   ]
  },
  {
   "cell_type": "code",
   "execution_count": null,
   "metadata": {},
   "outputs": [],
   "source": [
    "%%nbtutor -r -f \n",
    "def print_twice(thing):\n",
    "    print(thing)\n",
    "    print(thing)\n",
    "\n",
    "\n",
    "bird = \"Robin\"\n",
    "print_twice(bird)"
   ]
  },
  {
   "cell_type": "markdown",
   "metadata": {},
   "source": [
    "A function can take as many arguments as needed for the specific task or computation it is designed for. Here is a definition for a function that takes two arguments:"
   ]
  },
  {
   "cell_type": "code",
   "execution_count": null,
   "metadata": {},
   "outputs": [],
   "source": [
    "def print_cat(part1, part2):\n",
    "    print(part1 + part2)"
   ]
  },
  {
   "cell_type": "markdown",
   "metadata": {},
   "source": [
    "This function prints the result of adding two parameters together. The order of the arguments passed in to the function is mapped to the order of the parameters, for example:"
   ]
  },
  {
   "cell_type": "code",
   "execution_count": null,
   "metadata": {},
   "outputs": [],
   "source": [
    "one = \"Here's\"\n",
    "two = \" Johnny\"\n",
    "\n",
    "print_cat(one, two)\n",
    "print_cat(two, one)"
   ]
  },
  {
   "cell_type": "markdown",
   "metadata": {},
   "source": [
    "## Function namespace\n",
    "\n",
    "Each function gets its own namespace where variables and parameters may exist / get created. For example, when you create a variable inside a function, it is local, which means that it only exists inside that function namespace. Function parameters are also local, which means they only exist inside the function namespace where they were created."
   ]
  },
  {
   "cell_type": "code",
   "execution_count": null,
   "metadata": {},
   "outputs": [],
   "source": [
    "%%nbtutor -r -f --depth 3\n",
    "def print_twice(thing):\n",
    "    print(thing)\n",
    "    print(thing)\n",
    "\n",
    "\n",
    "def cat_twice(part1, part2):\n",
    "    cat = part1 + part2\n",
    "    print_twice(cat)\n",
    "\n",
    "\n",
    "this = \"Bing tiddle \"\n",
    "that = \"tiddle bang.\"\n",
    "cat_twice(this, that)"
   ]
  },
  {
   "cell_type": "markdown",
   "metadata": {},
   "source": [
    "Running the example above (using ``nbtutor`` to visualize the execution) will show how each function gets its own namespace. The ``Global frame`` is the namespace that is global to this notebook, I.e. global variables and function definitions get added to the notebook namespace. Function parameters and local function variables get created only in the function namespace where they were specifed.\n",
    "\n",
    "Stepping through the example above you should notice that the function parameters ``part1`` and ``part2`` and the variable ``cat`` only exist inside the ``cat_twice`` function namespace. The function parameter ``thing`` only exists inside the ``print_twice`` function namespace.\n",
    "\n",
    "Once the ``print_twice`` function finishes running (terminates), the ``thing`` parameter no longer exists (I.e. the ``print_twice`` namespace is deleted along with its variables and parameters). Once the ``cat_twice`` function terminates, the ``part`` and ``part2`` parameters and the ``cat`` variable no longer exist.\n",
    "\n",
    "For example, if we tried to print the variable ``cat``, we would get an error:"
   ]
  },
  {
   "cell_type": "code",
   "execution_count": null,
   "metadata": {},
   "outputs": [],
   "source": [
    "print(cat)"
   ]
  },
  {
   "cell_type": "markdown",
   "metadata": {},
   "source": [
    "<div class=\"panel panel-danger\">\n",
    "    <div class=\"panel-heading\">\n",
    "        <p><i class=\"fa fa-exclamation-triangle\" aria-hidden=\"true\"></i> Take Note</p>\n",
    "    </div>\n",
    "    <div class=\"panel-body\">\n",
    "        <p>When a function is called, a new namespace is created where local variable names and parameters are created. Once the function terminates (finishes) this namespace is deleted along with the local variable names and parameters. Only the variable and paramater names are deleted, not the objects. The objects only get deleted if there are no names pointing to them anymore.</p>\n",
    "        <p>Objects send as arguments to functions are not copied! Consider the example above and take note of how parameters and/or variables in different namespaces point to the same objects.</p>\n",
    "    </div>\n",
    "</div>"
   ]
  },
  {
   "cell_type": "markdown",
   "metadata": {},
   "source": [
    "## Return objects\n",
    "\n",
    "When calling a function that generates a return object, we usually assign that object to a variable or use it as part of an expression:"
   ]
  },
  {
   "cell_type": "code",
   "execution_count": null,
   "metadata": {},
   "outputs": [],
   "source": [
    "import numpy as np\n",
    "\n",
    "radius = 1\n",
    "e = np.exp(1.0)\n",
    "radians = np.radians(90)\n",
    "height = radius * np.sin(radians)"
   ]
  },
  {
   "cell_type": "markdown",
   "metadata": {},
   "source": [
    "Many of the functions we have used, such as the ``numpy`` functions, return objects. Other functions, like ``print_twice``, perform an action but do not return any objects. The truth is, in *Python*, every function returns something to the caller. If we do not specify what the function should return, by default it will return ``None`` (a special object for \"nothing\"). For example, in the ``print_twice`` function we did not specify what this function should return:"
   ]
  },
  {
   "cell_type": "code",
   "execution_count": null,
   "metadata": {},
   "outputs": [],
   "source": [
    "def print_twice(thing):\n",
    "    print(thing)\n",
    "    print(thing)"
   ]
  },
  {
   "cell_type": "markdown",
   "metadata": {},
   "source": [
    "And if we use this function, expecting it to return something (similar to how the ``numpy.radians`` function returned an answer) we see that ``None`` is returned:"
   ]
  },
  {
   "cell_type": "code",
   "execution_count": null,
   "metadata": {},
   "outputs": [],
   "source": [
    "something = print_twice(\"Hello\")\n",
    "print(something)"
   ]
  },
  {
   "cell_type": "markdown",
   "metadata": {},
   "source": [
    "The object ``None`` is not the same as the string ``'None'`` . It is a special object that has its own type:"
   ]
  },
  {
   "cell_type": "code",
   "execution_count": null,
   "metadata": {},
   "outputs": [],
   "source": [
    "type(None)"
   ]
  },
  {
   "cell_type": "markdown",
   "metadata": {},
   "source": [
    "### Example - Circle area\n",
    "\n",
    "As an example, lets create a function that computes and returns the area of a circle from a given radius:"
   ]
  },
  {
   "cell_type": "code",
   "execution_count": null,
   "metadata": {},
   "outputs": [],
   "source": [
    "import numpy as np\n",
    "\n",
    "def area(radius):\n",
    "    ans = np.pi * radius**2\n",
    "    return ans"
   ]
  },
  {
   "cell_type": "markdown",
   "metadata": {},
   "source": [
    "The ``return`` statement means: “Return immediately from this function and use the following expression as a return object.”"
   ]
  },
  {
   "cell_type": "markdown",
   "metadata": {},
   "source": [
    "<div class=\"panel panel-danger\">\n",
    "    <div class=\"panel-heading\">\n",
    "        <p><i class=\"fa fa-exclamation-triangle\" aria-hidden=\"true\"></i> Take Note</p>\n",
    "    </div>\n",
    "    <div class=\"panel-body\">\n",
    "        <p>The return statement tells <i>Python</i> what object/s must be returned from the function as output. The return statement exits the function immediately and no code (in the function body) after the return statement will be executed.</p>\n",
    "    </div>\n",
    "</div>"
   ]
  },
  {
   "cell_type": "markdown",
   "metadata": {},
   "source": [
    " The expression (following the ``return`` keyword) can be arbitrarily complicated, so we could have written this function more concisely:"
   ]
  },
  {
   "cell_type": "code",
   "execution_count": null,
   "metadata": {},
   "outputs": [],
   "source": [
    "import numpy as np\n",
    "\n",
    "def area(radius):\n",
    "    return np.pi * radius**2"
   ]
  },
  {
   "cell_type": "markdown",
   "metadata": {},
   "source": [
    "On the other hand, temporary variables like ``ans`` can make debugging easier."
   ]
  },
  {
   "cell_type": "markdown",
   "metadata": {},
   "source": [
    "## Incremental development\n",
    "\n",
    "As you write larger functions, you might find yourself spending more time debugging. To deal with increasingly complex programs, you might want to try a process called incremental development. The goal of incremental development is to avoid long debugging sessions by adding and testing only a small amount of code at a time."
   ]
  },
  {
   "cell_type": "markdown",
   "metadata": {},
   "source": [
    "### Example - Distance\n",
    "\n",
    "As an example, suppose you want to find the distance between two points, given by the coordinates $(x_1, y_1)$ and $(x_2, y_2)$. By the Pythagorean theorem, the distance is:\n",
    "$$\n",
    "\\text{distance} = \\sqrt{(x_2 − x_1)^2 + (y_2 − y_1)^2}\n",
    "$$\n",
    "\n",
    "The first step is to consider what a distance function should look like in *Python*. In other words, what are the arguments (parameters) and what is the output (return object)?\n",
    "\n",
    "In this case, the arguments are the two points, which you can represent using four numbers. The return object is the distance represented by a floating-point number.\n",
    "\n",
    "Immediately you can write an outline of the function:"
   ]
  },
  {
   "cell_type": "code",
   "execution_count": null,
   "metadata": {},
   "outputs": [],
   "source": [
    "def distance(x1, y1, x2, y2):\n",
    "    return 0.0"
   ]
  },
  {
   "cell_type": "markdown",
   "metadata": {},
   "source": [
    "Obviously, this version doesn’t compute distances; it always returns zero. But it is syntactically correct, and it runs, which means that you can test it before you make it more complicated. To test the new function, call it with sample arguments:"
   ]
  },
  {
   "cell_type": "code",
   "execution_count": null,
   "metadata": {},
   "outputs": [],
   "source": [
    "distance(1, 2, 4, 6)"
   ]
  },
  {
   "cell_type": "markdown",
   "metadata": {},
   "source": [
    "I chose these values so that the horizontal distance is 3 and the vertical distance is 4; that way, the result is 5, the hypotenuse of a 3-4-5 triangle. When testing a function, it is useful to know the right answer.\n",
    "\n",
    "At this point we have confirmed that the function is syntactically correct, and we can start adding code to the body. A reasonable next step is to find the differences $x_2 − x_1$ and $y_2 − y_1$.\n",
    "\n",
    "The next version stores those values in temporary variables and prints them:"
   ]
  },
  {
   "cell_type": "code",
   "execution_count": null,
   "metadata": {},
   "outputs": [],
   "source": [
    "def distance(x1, y1, x2, y2):\n",
    "    dx = x2 - x1\n",
    "    dy = y2 - y1\n",
    "    print('dx is', dx)\n",
    "    print('dy is', dy)\n",
    "    return 0.0"
   ]
  },
  {
   "cell_type": "markdown",
   "metadata": {},
   "source": [
    "If the function is working, it should display ``dx`` is 3 and ``dy`` is 4 . If so, we know that the function is getting the right arguments and performing the first computation correctly. If not, there are only a few lines to check."
   ]
  },
  {
   "cell_type": "code",
   "execution_count": null,
   "metadata": {},
   "outputs": [],
   "source": [
    "distance(1, 2, 4, 6)"
   ]
  },
  {
   "cell_type": "markdown",
   "metadata": {},
   "source": [
    "Next we compute the sum of squares of ``dx`` and ``dy``:"
   ]
  },
  {
   "cell_type": "code",
   "execution_count": null,
   "metadata": {},
   "outputs": [],
   "source": [
    "def distance(x1, y1, x2, y2):\n",
    "    dx = x2 - x1\n",
    "    dy = y2 - y1\n",
    "    dsquared = dx**2 + dy**2\n",
    "    print('dsquared is: ', dsquared)\n",
    "    return 0.0"
   ]
  },
  {
   "cell_type": "markdown",
   "metadata": {},
   "source": [
    "Again, you would run the program at this stage and check the output (which should be\n",
    "25)."
   ]
  },
  {
   "cell_type": "code",
   "execution_count": null,
   "metadata": {},
   "outputs": [],
   "source": [
    "distance(1, 2, 4, 6)"
   ]
  },
  {
   "cell_type": "markdown",
   "metadata": {},
   "source": [
    " Finally, you can use ``np.sqrt`` to compute and return the result:"
   ]
  },
  {
   "cell_type": "code",
   "execution_count": null,
   "metadata": {},
   "outputs": [],
   "source": [
    "import numpy as np\n",
    "\n",
    "def distance(x1, y1, x2, y2):\n",
    "    dx = x2 - x1\n",
    "    dy = y2 - y1\n",
    "    dsquared = dx**2 + dy**2\n",
    "    result = np.sqrt(dsquared)\n",
    "    return result"
   ]
  },
  {
   "cell_type": "markdown",
   "metadata": {},
   "source": [
    "If that works correctly, you are done. Otherwise, you might want to print the value of result before the return statement."
   ]
  },
  {
   "cell_type": "code",
   "execution_count": null,
   "metadata": {},
   "outputs": [],
   "source": [
    "distance(1, 2, 4, 6)"
   ]
  },
  {
   "cell_type": "markdown",
   "metadata": {},
   "source": [
    "<div class=\"panel panel-danger\">\n",
    "    <div class=\"panel-heading\">\n",
    "        <p><i class=\"fa fa-exclamation-triangle\" aria-hidden=\"true\"></i> Take Note</p>\n",
    "    </div>\n",
    "    <div class=\"panel-body\">\n",
    "        <p>The final version of the function doesn’t display anything when it runs; it only returns an object. The <code>print</code> statements we wrote are useful for debugging, but once you get the function working, you should remove them. Code like that is called <strong>scaffolding</strong> because it is helpful for building the program but is not part of the final product.</p>\n",
    "    </div>\n",
    "</div>"
   ]
  },
  {
   "cell_type": "markdown",
   "metadata": {},
   "source": [
    "When you start out, you should add only a line or two of code at a time. As you gain more experience, you might find yourself writing and debugging bigger chunks. Either way, incremental development can save you a lot of debugging time.\n",
    "\n",
    "The key aspects of the process are:\n",
    "1. Start with a working program and make small incremental changes. At any point, if there is an error, you should have a good idea where it is.\n",
    "2. Use variables to hold intermediate objects so you can display and check them.\n",
    "3. Once the program is working, you might want to remove some of the scaffolding or consolidate multiple statements into compound expressions, but only if it does not make the program difficult to read.\n",
    "\n",
    "As an exercise, use incremental development to write a function called ``hypotenuse`` that returns the length of the hypotenuse of a right triangle given the lengths of the other two legs as arguments. Record each stage of the development process as you go."
   ]
  },
  {
   "cell_type": "markdown",
   "metadata": {},
   "source": [
    "### Example - Circle area\n",
    "\n",
    "Incremental development not only helps from a single function point of view, but also from a function structure point of view. As an example, lets write a function that takes two points, the center of a circle and a point on the perimeter, and computes the area of the circle.\n",
    "\n",
    "Assume that the center point is stored in the variables ``xc`` and ``yc``, and the perimeter point is in ``xp`` and ``yp``. The first step is to find the radius of the circle, which is the distance between the two points. We just wrote a function, distance, that does that:\n",
    "```python\n",
    "radius = distance(xc, yc, xp, yp)\n",
    "```\n",
    "\n",
    "The next step is to find the area of a circle with that radius; we just wrote that, too:\n",
    "```python\n",
    "result = area(radius)\n",
    "```\n",
    "\n",
    "Encapsulating these steps in a function, we get:"
   ]
  },
  {
   "cell_type": "code",
   "execution_count": null,
   "metadata": {},
   "outputs": [],
   "source": [
    "def circle_area(xc, yc, xp, yp):\n",
    "    radius = distance(xc, yc, xp, yp)\n",
    "    result = area(radius)\n",
    "    return result"
   ]
  },
  {
   "cell_type": "markdown",
   "metadata": {},
   "source": [
    "<div class=\"panel panel-danger\">\n",
    "    <div class=\"panel-heading\">\n",
    "        <p><i class=\"fa fa-exclamation-triangle\" aria-hidden=\"true\"></i> Take Note</p>\n",
    "    </div>\n",
    "    <div class=\"panel-body\">\n",
    "        <p>It is often useful, when you come to a function call, instead of following the flow of execution, you assume that the function works correctly and returns the right result.</p>\n",
    "        <p>In fact, you are already practicing this leap of faith when you use built-in functions. When you call ``numpy.cos`` or ``numpy.exp``, you don’t examine the bodies of those functions. You just assume that they work because the people who wrote the built-in functions were good programmers.</p>\n",
    "        <p>The same is true when you call one of your own functions. Once we have convinced ourselves that this function is correct — by examining the code and testing — we can use the function without looking at the body again.</p>\n",
    "    </div>\n",
    "</div>"
   ]
  },
  {
   "cell_type": "markdown",
   "metadata": {},
   "source": [
    "The temporary variables ``radius`` and ``result`` are useful for development and debugging, but once the program is working, we can make it more concise by composing the function calls:"
   ]
  },
  {
   "cell_type": "code",
   "execution_count": null,
   "metadata": {},
   "outputs": [],
   "source": [
    "def circle_area(xc, yc, xp, yp):\n",
    "    radius = distance(xc, yc, xp, yp)\n",
    "    return area(radius)"
   ]
  },
  {
   "cell_type": "markdown",
   "metadata": {},
   "source": [
    "Putting the pieces together in one *Code Cell*, we have:"
   ]
  },
  {
   "cell_type": "code",
   "execution_count": null,
   "metadata": {},
   "outputs": [],
   "source": [
    "import numpy as np\n",
    "\n",
    "def area(radius):\n",
    "    return np.pi * radius**2\n",
    "\n",
    "\n",
    "def distance(x1, y1, x2, y2):\n",
    "    return np.sqrt((x2 - x1)**2 + (y2 - y1)**2)\n",
    "\n",
    "\n",
    "def circle_area(xc, yc, xp, yp):\n",
    "    radius = distance(xc, yc, xp, yp)\n",
    "    return area(radius)\n",
    "\n",
    "\n",
    "result = circle_area(1, 2, 4, 6)\n",
    "print(result)"
   ]
  },
  {
   "cell_type": "markdown",
   "metadata": {},
   "source": [
    "## Notebook namespace\n",
    "\n",
    "As mentioned previously, each function gets its own namespace where variables and parameters may exist / get created. For example, when you create a variable inside a function, it is local, which means that it only exists inside that function namespace. There is also a global (or Notebook) namespace. Global variables and function definitions get added to this Notebook namespace and are accessible from inside local function namespaces."
   ]
  },
  {
   "cell_type": "markdown",
   "metadata": {},
   "source": [
    "All variables and function definitions that exist in the Notebook namespace can be displayed by executing ``%whos`` in a *Code Cell*, for example:"
   ]
  },
  {
   "cell_type": "code",
   "execution_count": null,
   "metadata": {},
   "outputs": [],
   "source": [
    "%whos"
   ]
  },
  {
   "cell_type": "markdown",
   "metadata": {},
   "source": [
    "The Notebook namespace can be cleared (I.e. all variables and function definitions be deleted) by executing ``%reset`` in a *Code Cell*, for example:"
   ]
  },
  {
   "cell_type": "code",
   "execution_count": null,
   "metadata": {},
   "outputs": [],
   "source": [
    "%reset"
   ]
  },
  {
   "cell_type": "markdown",
   "metadata": {},
   "source": [
    "<div class=\"panel panel-danger\">\n",
    "    <div class=\"panel-heading\">\n",
    "        <p><i class=\"fa fa-exclamation-triangle\" aria-hidden=\"true\"></i> Take Note</p>\n",
    "    </div>\n",
    "    <div class=\"panel-body\">\n",
    "        <p>After executing the *Code Cell* above with the ``%reset`` statement, re-execute the *Code Cell* above with the ``%whos`` statement to see how the Notebook namespace was cleared.</p>\n",
    "    </div>\n",
    "</div>"
   ]
  },
  {
   "cell_type": "markdown",
   "metadata": {},
   "source": [
    "### Example - Falling object\n",
    "\n",
    "As an example, lets consider the example of an object falling from a height above the ground.\n",
    "The equations describing the motion of this object, assuming constant acceleration, are:\n",
    "\n",
    "$$ \n",
    "\\begin{align}\n",
    "    a(t) &= g \\: \\text{(constant)} \\\\\n",
    "    v(t) &= \\int a(t) \\: \\mathrm{d}t  =  v_0 + gt \\\\\n",
    "    s(t) &= \\int v(t) \\: \\mathrm{d}t = s_0 + v_0t + 0.5 gt^2\n",
    "\\end{align}\n",
    "$$\n",
    "\n",
    "where $g$ is the gravitationaly acceleration $[m/s^2]$, $v_0$ the initial object velocity $[m/s]$, $s_0$ the initial object height $[m]$ above the ground, and $t$ is the time $[s]$."
   ]
  },
  {
   "cell_type": "markdown",
   "metadata": {},
   "source": [
    "The following function (named ``height``) computes the objects height $s(t)$ above the ground for any initial height $s_0$, velocity $v_0$, and time $t$ values:"
   ]
  },
  {
   "cell_type": "code",
   "execution_count": null,
   "metadata": {},
   "outputs": [],
   "source": [
    "def height(s0, v0, t):\n",
    "    g = -9.81\n",
    "    st = s0 + v0 * t + 0.5 * g * t**2\n",
    "    return st"
   ]
  },
  {
   "cell_type": "markdown",
   "metadata": {},
   "source": [
    "When creating new functions, you as the programmer will decide what inputs are needed for the function and what value/s the function returns. In this example, the equation we are using requires four variables in order to solve for the height $s(t)$, these variable being the initial height $s_0$, initial velocity $v_0$, gravitational acceleration $g$, and time $t$.\n",
    "\n",
    "I decided that the ``height`` function should take the initial height $s_0$, initial velocity $v_0$, and the time $t$ values as input as these are likely to change. I also decided the gravitational acceleration $g$ would likely remain constant and as such defined $g$ as a local variable inside the ``height``function namespace.\n",
    "\n",
    "I could have decided that the gravitational acceleration $g$ should be a global variable, for example:"
   ]
  },
  {
   "cell_type": "code",
   "execution_count": null,
   "metadata": {},
   "outputs": [],
   "source": [
    "def height(s0, v0, t):\n",
    "    st = s0 + v0 * t + 0.5 * g * t**2\n",
    "    return st\n",
    "\n",
    "\n",
    "g = -9.81\n",
    "s = height(100, 0, 2)\n",
    "print(s)"
   ]
  },
  {
   "cell_type": "markdown",
   "metadata": {},
   "source": [
    "But wait... how is this code not crashing? The statements inside the function ``height`` rely on a variable ``g`` which is not only created outside the function but also created after the function, how is this code not crashing? Try and answer this question yourself before continuing to read further."
   ]
  },
  {
   "cell_type": "code",
   "execution_count": null,
   "metadata": {},
   "outputs": [],
   "source": [
    "%%nbtutor -rf \n",
    "\n",
    "def height(s0, v0, t):\n",
    "    st = s0 + v0 * t + 0.5 * g * t**2\n",
    "    return st\n",
    "\n",
    "\n",
    "g = -9.81\n",
    "s = height(100, 0, 2)\n",
    "print(s)"
   ]
  },
  {
   "cell_type": "markdown",
   "metadata": {},
   "source": [
    "When a function is called, only then will the statements inside the function be executed and only when these statements are executed will *Python* start looking for what variables are. When line 4 gets executed *Python* will first look in the local function (``height``) namespace for the variables ``s0``, ``v0``, ``t``, and ``g``. The variables ``s0``, ``v0``, and ``t`` exist in the local namespace as parameters passed in as arguments, but ``g`` does not exist in the local namespace at all. If *Python* can't find a variable in the local namespace it will then look at the next namespace above, in this case the Notebook namespace.\n",
    "\n",
    "Stepping through this example line-by-line should make it clearer. The function object and name gets created in the Notebook namespace (line 3), but the statements inside the function only get executed when the function is called (line 9) and this function call is after the definition of ``g`` (line 8), so this means that when the statements inside the function get executed *Python* knows what ``g`` is because it was defined before the function call in the Notebook namespace."
   ]
  },
  {
   "cell_type": "markdown",
   "metadata": {},
   "source": [
    "This is bad programming. All variables used in a function should either be passed as arguments or should be defined inside the function.\n",
    "\n",
    "You may be thinking to yourself, but why? In this example it makes sense to have gravity as a \"global\" constant, it is not going to change. As a hypothetical lets say you have this exact example above and now you continue to work on another example, lets say computing the numerical gradient of a function:"
   ]
  },
  {
   "cell_type": "code",
   "execution_count": null,
   "metadata": {},
   "outputs": [],
   "source": [
    "def func(x):\n",
    "    return x**2 + 5\n",
    "\n",
    "\n",
    "dx = 0.0001\n",
    "y1 = func(2)\n",
    "y2 = func(2 + dx)\n",
    "g = (y2 - y1) / dx\n",
    "print(g)"
   ]
  },
  {
   "cell_type": "markdown",
   "metadata": {},
   "source": [
    "Oh no... I've used ``g`` as a variable for the gradient, which now means that the ``height`` function will now not give me the correct result because ``g`` is no longer ``-9.81``. Thus all variables used in a function should either be passed as arguments or should be defined inside the function to avoid possible bugs like this."
   ]
  },
  {
   "cell_type": "code",
   "execution_count": null,
   "metadata": {},
   "outputs": [],
   "source": [
    "s = height(100, 0, 2)\n",
    "print(g)\n",
    "print(s)"
   ]
  },
  {
   "cell_type": "markdown",
   "metadata": {},
   "source": [
    "## Why functions?\n",
    "\n",
    "It may not be clear why it is worth the trouble to divide a program into functions. There are several reasons:\n",
    "- Creating a new function gives you an opportunity to name a group of statements, which makes your program easier to read and debug.\n",
    "- Functions can make a program smaller by eliminating repetitive code. Later, if you make a change, you only have to make it in one place.\n",
    "- Dividing a long program into functions allows you to debug the parts one at a time and then assemble them into a working whole.\n",
    "- Well-designed functions are often useful for many programs. Once you write and debug one, you can reuse it."
   ]
  },
  {
   "cell_type": "markdown",
   "metadata": {},
   "source": [
    "## Debugging\n",
    "\n",
    "One of the most important skills you will acquire is debugging. Although it can be frustrating, debugging is one of the most intellectually rich, challenging, and interesting parts of programming.\n",
    "\n",
    "In some ways debugging is like detective work. You are confronted with clues and you have to infer the processes and events that led to the results you see.\n",
    "\n",
    "Debugging is also like an experimental science. Once you have an idea about what is going wrong, you modify your program and try again. If your hypothesis was correct, you can predict the result of the modification, and you take a step closer to a working program. If your hypothesis was wrong, you have to come up with a new one. As Sherlock Holmes pointed out, “When you have eliminated the impossible, whatever remains, however improbable, must be the truth.” (A. Conan Doyle, The Sign of Four)\n",
    "\n",
    "For some people, programming and debugging are the same thing. That is, programming is the process of gradually debugging a program until it does what you want. The idea is that you should start with a working program and make small modifications, debugging them as you go.\n",
    "\n",
    "Breaking a large program into smaller functions creates natural checkpoints for debugging. If a function is not working, there are three possibilities to consider:\n",
    "- There is something wrong with the arguments the function is getting; a precondition is violated.\n",
    "- There is something wrong with the function; a postcondition is violated.\n",
    "- There is something wrong with the return object or the way it is being used.\n",
    "\n",
    "To rule out the first possibility, you can add a print statement at the beginning of the function and display the values of the parameters (and maybe their types). Or you can write code that checks the preconditions explicitly.\n",
    "\n",
    "If the parameters look good, add a print statement before each return statement and display the return object. If possible, check the result by hand. Consider calling the function with values that make it easy to check the result.\n",
    "\n",
    "If the function seems to be working, look at the function call to make sure the return object is being used correctly (or used at all!).\n",
    "\n",
    "Adding print statements at the beginning and end of a function can help make the flow of execution more visible. It takes some time to develop effective scaffolding, but a little bit of scaffolding can save a lot of debugging."
   ]
  },
  {
   "cell_type": "markdown",
   "metadata": {},
   "source": [
    "## Glossary\n",
    "\n",
    "**argument**: An object provided to a function when the function is called. This object is assigned to the corresponding parameter in the function.\n",
    "\n",
    "**composition**: Using an expression as part of a larger expression, or a statement as part of a larger statement.\n",
    "\n",
    "**flow of execution**: The order statements run in.\n",
    "\n",
    "**function**: A named sequence of statements that performs some useful operation. Functions may or may not take arguments and may or may not produce a result.\n",
    "\n",
    "**function body**: The sequence of statements inside a function definition.\n",
    "\n",
    "**function call**: A statement that runs a function. It consists of the function name followed by an argument list in parentheses.\n",
    "\n",
    "**function definition**: A statement that creates a new function, specifying its name, parameters, and the statements it contains.\n",
    "\n",
    "**function header**: The first line of a function definition.\n",
    "\n",
    "**function object**: An object created by a function definition. The name of the function is a variable that refers to a function object.\n",
    "\n",
    "**incremental development**: A program development plan intended to avoid debugging by adding and testing only a small amount of code at a time.\n",
    "\n",
    "**local variable**: A variable defined inside a function. A local variable can only be used inside its function.\n",
    "\n",
    "**namespace**: A mapping from names to objects.\n",
    "\n",
    "**None**: A special object returned by functions when no ``return`` is specified.\n",
    "\n",
    "**parameter**: A name used inside a function to refer to the object passed as an argument.\n",
    "\n",
    "**return object**: The result of a function. If a function call is used as an expression, the return object is the object of the expression.\n",
    "\n",
    "**scaffolding**: Code that is used during program development but is not part of the final version.\n",
    "\n",
    "**temporary variable**: A variable used to store an intermediate object in a complex calculation."
   ]
  },
  {
   "cell_type": "markdown",
   "metadata": {},
   "source": [
    "## Exercises"
   ]
  },
  {
   "cell_type": "markdown",
   "metadata": {},
   "source": [
    "1) Write a function (named ``area``) that takes a single argument, namely the radius $r$ of a sphere. This function must compute and return the surface area of a sphere given by:\n",
    "\n",
    "$$\n",
    "    S = 4 \\pi r^2\n",
    "$$"
   ]
  },
  {
   "cell_type": "markdown",
   "metadata": {},
   "source": [
    "2) Write a function (named ``volume``) that takes a single argument, namely the radius $r$ of a sphere. This function must compute and return the volume of a sphere given by:\n",
    "\n",
    "$$\n",
    "    V = \\frac{4}{3} \\pi r^3\n",
    "$$"
   ]
  },
  {
   "cell_type": "markdown",
   "metadata": {},
   "source": [
    "3) Consider a rectangular section with a width $b$ (along the $x$-axis) and a height $h$ (along the $y$-axis). Write three functions that compute the moment of inertia around the centroidal $x$-axis, $y$-axis, and polar resectively:\n",
    "\n",
    "$$\n",
    "\\begin{aligned}\n",
    "    I_x &= \\frac{1}{12}bh^3 \\\\\n",
    "    I_y &= \\frac{1}{12}hb^3 \\\\\n",
    "    I_z &= \\frac{bh}{12}\\left(b^2 + h^2\\right) \\\\\n",
    "\\end{aligned}\n",
    "$$\n",
    "\n",
    "Each function takes two arguments, namely the width $b$ and height $h$ of the rectangular section."
   ]
  },
  {
   "cell_type": "markdown",
   "metadata": {},
   "source": [
    "4) Redo number 3, however this time the function that computes $I_y$ must make use of the function that computes $I_x$ and must only contain a single statement in the function body."
   ]
  },
  {
   "cell_type": "markdown",
   "metadata": {},
   "source": [
    "5a) Write a function that computes the terminal velocity of a falling body in a non-dense medium given by:\n",
    "\n",
    "$$\n",
    "    v_t = \\sqrt{\\frac{2mg}{\\rho A C_d}}\n",
    "$$\n",
    "\n",
    "where:\n",
    "\n",
    "- $g=9.81 \\; m/s^2$ is the gravitational acceleration\n",
    "- $m$ is the body mass - $kg$\n",
    "- $A$ is the body cross sectional area - $m^2$\n",
    "- $\\rho$ is the medium density - $kg / m^3$\n",
    "- $C_d$ is the coefficient of drag"
   ]
  },
  {
   "cell_type": "markdown",
   "metadata": {},
   "source": [
    "5b) Write a function that computes the velocity (of the falling object) at a given time $t$:\n",
    "\n",
    "$$\n",
    "    v(t) = \\sqrt{\\frac{2mg}{\\rho A C_d}} \\tanh \\left(t\\sqrt{\\frac{g\\rho C_d A}{2m}}\\right)\n",
    "$$\n",
    "\n",
    "*Hint: Make use of the function you created in 5a*"
   ]
  },
  {
   "cell_type": "markdown",
   "metadata": {},
   "source": [
    "6) A function object can be assigned to a variable or passed as an argument. For example, ``do_twice`` is a function that takes another function object as an argument and calls it twice:"
   ]
  },
  {
   "cell_type": "code",
   "execution_count": null,
   "metadata": {},
   "outputs": [],
   "source": [
    "def do_twice(func):\n",
    "    func()\n",
    "    func()"
   ]
  },
  {
   "cell_type": "markdown",
   "metadata": {},
   "source": [
    "Here’s an example that uses ``do_twice`` to call a function named ``print_spam`` twice."
   ]
  },
  {
   "cell_type": "code",
   "execution_count": null,
   "metadata": {},
   "outputs": [],
   "source": [
    "def print_spam():\n",
    "    print('spam')\n",
    "\n",
    "\n",
    "do_twice(print_spam)"
   ]
  },
  {
   "cell_type": "markdown",
   "metadata": {},
   "source": [
    "6a) Modify ``do_twice`` so that it takes two arguments, namely a function object and a value, and calls the function twice, passing the value as an argument."
   ]
  },
  {
   "cell_type": "markdown",
   "metadata": {},
   "source": [
    "Recall the ``print_twice`` function from earlier in this chapter:"
   ]
  },
  {
   "cell_type": "code",
   "execution_count": null,
   "metadata": {},
   "outputs": [],
   "source": [
    "def print_twice(thing):\n",
    "    print(thing)\n",
    "    print(thing)"
   ]
  },
  {
   "cell_type": "markdown",
   "metadata": {},
   "source": [
    "6b) Use the modified version of ``do_twice`` to call ``print_twice`` twice, passing `spam` as an argument."
   ]
  },
  {
   "cell_type": "markdown",
   "metadata": {},
   "source": [
    "6c) Define a new function (called ``do_four``) that takes a function object and a value and calls the function four times, passing the value as an argument. There should be only two statements in the body of this function, not four."
   ]
  },
  {
   "cell_type": "code",
   "execution_count": null,
   "metadata": {},
   "outputs": [],
   "source": []
  }
 ],
 "metadata": {
  "anaconda-cloud": {},
  "kernelspec": {
   "display_name": "Python 3",
   "language": "python",
   "name": "python3"
  },
  "language_info": {
   "codemirror_mode": {
    "name": "ipython",
    "version": 3
   },
   "file_extension": ".py",
   "mimetype": "text/x-python",
   "name": "python",
   "nbconvert_exporter": "python",
   "pygments_lexer": "ipython3",
   "version": "3.6.3"
  }
 },
 "nbformat": 4,
 "nbformat_minor": 1
}
