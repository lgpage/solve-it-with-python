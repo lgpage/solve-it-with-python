{
 "cells": [
  {
   "cell_type": "markdown",
   "metadata": {},
   "source": [
    "<div class=\"jumbotron jumbotron-fluid\">\n",
    "  <div class=\"container\">\n",
    "    <h1 class=\"display-3\">While Loops</h1>\n",
    "    <p class=\"lead\">Repeat execution as long as a condition is true.</p>\n",
    "  </div>\n",
    "</div>"
   ]
  },
  {
   "cell_type": "markdown",
   "metadata": {},
   "source": [
    "- [Overview](#Overview)\n",
    "- [Boolean expressions](#Boolean-expressions)\n",
    "- [Examples](#Examples)\n",
    "    - [Comparison to a for statement](#Comparison-to-a-for-statement)\n",
    "    - [Taylor series](#Taylor-series)\n",
    "- [Logical operators](#Logic-operators)\n",
    "- [More examples](#More-examples)\n",
    "    - [Dice game](#Dice-game)\n",
    "- [Debugging](#Debugging)\n",
    "- [Glossary](#Glossary)\n",
    "- [Exercises](#Exercises)"
   ]
  },
  {
   "cell_type": "markdown",
   "metadata": {},
   "source": [
    "## Overview\n",
    "\n",
    "In the previous section we had an example where a few terms in the Taylor series for $e^x$ produced a very accurate approximation, whereas approximation to $\\pi$ of the 1000$^\\textrm{th}$ term was still inaccurate. So how can we tell in advance how many terms will be required to get an accurate function value? We can't. The only benefit of using the `for` statement to compute the approximate value to a function is its simplicity. In general, our goal would be to compute an accurate function value rather than just add some predetermined number of terms. So how should we approach the problem of computing an accurate function value using a Taylor series approximation?\n",
    "\n",
    "I can think of a couple of ideas.\n",
    "\n",
    "1. We can keep track of the size of each additional Taylor term. If the size of the new Taylor term is significantly small, stop adding terms.\n",
    "\n",
    "2. Compare our approximation to an actual existing solution, if one exists.\n",
    "\n",
    "Clearly the `for` statement cannot be used for the above ideas. We need a type of loop that will only be repeated while some condition is true. The `while` statement performs this function. The framework for the `while` statement is:"
   ]
  },
  {
   "cell_type": "markdown",
   "metadata": {},
   "source": [
    "<img src=\"./figures/while_loop_framework.svg\" alt=\"while statement framework\" style=\"height: 400px;\"/>"
   ]
  },
  {
   "cell_type": "markdown",
   "metadata": {},
   "source": [
    "where `condition` is a boolean expression discussed below. This type of flow is also called a loop because the third step loops back around to the top."
   ]
  },
  {
   "cell_type": "markdown",
   "metadata": {},
   "source": [
    "<div class=\"panel panel-info\">\n",
    "    <div class=\"panel-heading\">\n",
    "        <p><i class=\"fa fa-info-circle\" aria-hidden=\"true\"></i> More Information</p>\n",
    "    </div>\n",
    "    <div class=\"panel-body\">\n",
    "    <p>You can get more information about the `while` statement by executing `help(\"while\")` in a *Code Cell*</p>\n",
    "    </div>\n",
    "</div>"
   ]
  },
  {
   "cell_type": "code",
   "execution_count": null,
   "metadata": {},
   "outputs": [],
   "source": [
    "help(\"while\")"
   ]
  },
  {
   "cell_type": "markdown",
   "metadata": {},
   "source": [
    "## Boolean expressions\n",
    "\n",
    "Boolean expressions when used in a `while` statement are often called conditions. Boolean expressions are equivalent to questions (in languange) with a *yes* (`True`) or *no* (`False`) answers.\n",
    "\n",
    "*Python* makes use of comparison operators that can be used to \"ask a question\" in a way that *Python* can understand and return a value of either `True` or `False`. The table below lists some of these operators with their linguistic equivalents using the variables `a` and `b`:\n",
    "\n",
    "| Name             | Operator   | Example   | Linguistic Equivalent                |\n",
    "|:----------------:|:----------:|:-------:--|:------------------------------------:|\n",
    "| Equal            | `==`       | `a == b`  | Is `a` equal to `b`?                 |\n",
    "| Not equal        | `!=`       | `a != b`  | Is `a` not equal to `b`?             |\n",
    "| Less than        | `<`        | `a < b`   | Is `a` less than `b`?                |\n",
    "| Greater than     | `>`        | `a > b`   | Is `a` greater than `b`?             |\n",
    "| Less or equal    | `<=`       | `a <= b`  | Is `a` less than or equal to `b`?    |\n",
    "| Greater or equal | `>=`       | `a >= b`  | Is `a` greater than or equal to `b`? |\n"
   ]
  },
  {
   "cell_type": "markdown",
   "metadata": {},
   "source": [
    "<div class=\"panel panel-danger\">\n",
    "    <div class=\"panel-heading\">\n",
    "        <p><i class=\"fa fa-exclamation-triangle\" aria-hidden=\"true\"></i> Take Note</p>\n",
    "    </div>\n",
    "    <div class=\"panel-body\">\n",
    "        <p> Although these operations are probably familiar to you, the *Python* symbols are different from the mathematical symbols. A common error is to use a single equal sign (`=`) instead of a double equal sign (`==`). Remember that `a = b` is an assignment operation and `a == b` is a comparison operation. There is also no such thing as `=<` or `=>` in *Python*.</p>\n",
    "    </div>\n",
    "</div>\n"
   ]
  },
  {
   "cell_type": "markdown",
   "metadata": {},
   "source": [
    "Comparison operators yield either `True` or `False` objects. `True` and `False` are special objects that belong to the type `bool`; they are not strings:"
   ]
  },
  {
   "cell_type": "code",
   "execution_count": null,
   "metadata": {},
   "outputs": [],
   "source": [
    "one = 10\n",
    "two = 5\n",
    "check = (one == two)\n",
    "print(check)\n",
    "print(type(check))"
   ]
  },
  {
   "cell_type": "markdown",
   "metadata": {},
   "source": [
    "Here is countdown function that uses a while statement:"
   ]
  },
  {
   "cell_type": "code",
   "execution_count": null,
   "metadata": {},
   "outputs": [],
   "source": [
    "def countdown(n):\n",
    "    while n > 0:\n",
    "        print(n)\n",
    "        n = n - 1\n",
    "    print('Blastoff!')"
   ]
  },
  {
   "cell_type": "code",
   "execution_count": null,
   "metadata": {},
   "outputs": [],
   "source": [
    "countdown(10)"
   ]
  },
  {
   "cell_type": "markdown",
   "metadata": {},
   "source": [
    "You can almost read the `while` statement as if it were English. It means, “While n is greater than 0, display the value of n and then decrement n. When you get to 0, display the word Blastoff!”\n",
    "\n",
    "More formally, here is the flow of execution for a while statement:\n",
    "1. Determine whether the condition is `True` or `False`.\n",
    "2. If `False`, terminate the `while` statement and continue execution at the next statement.\n",
    "3. If `True`, run the body and then go back to step 1."
   ]
  },
  {
   "cell_type": "markdown",
   "metadata": {},
   "source": [
    "The body of the loop should change the value of one or more variables so that the `condition` becomes false eventually and the loop terminates. Otherwise the loop will repeat forever, which is called an infinite loop. An endless source of amusement for computer scientists is the observation that the directions on shampoo, “Lather, rinse, repeat”, are an infinite loop."
   ]
  },
  {
   "cell_type": "markdown",
   "metadata": {},
   "source": [
    "## Examples\n",
    "\n",
    "### Comparison to a for statement\n",
    "\n",
    "To illustrate the use of a `while` statement (and to also illustrate its difference to the `for` statement), let us look at a simple example where we print the first ten integers.\n",
    "\n",
    "Using a `for` statement, the code is:"
   ]
  },
  {
   "cell_type": "code",
   "execution_count": null,
   "metadata": {},
   "outputs": [],
   "source": [
    "print(\"begin\")\n",
    "for i in range(1, 11):\n",
    "    print(i)\n",
    "print(\"end\")"
   ]
  },
  {
   "cell_type": "markdown",
   "metadata": {},
   "source": [
    "Using a `while` statement, the code is:"
   ]
  },
  {
   "cell_type": "code",
   "execution_count": null,
   "metadata": {},
   "outputs": [],
   "source": [
    "i = 1\n",
    "print(\"begin\")\n",
    "while (i <= 10):\n",
    "    print(i)\n",
    "    i = i + 1\n",
    "print(\"end\")"
   ]
  },
  {
   "cell_type": "markdown",
   "metadata": {},
   "source": [
    "The above examples illustrate the important differences between the two methods. The `for` statement initialises the variable `i` and updates it through each loop by iterating through the values generated by the `range` object.\n",
    "\n",
    "For the `while` statement, initialising and updating must be done explicitly by the programmer. `i` is initialised before the `while` statement at line 1 and updated through each loop at line 5 by adding one. The program continues to print and update the value of `i` until its value is less than or equal to 10."
   ]
  },
  {
   "cell_type": "markdown",
   "metadata": {},
   "source": [
    "<div class=\"panel panel-danger\">\n",
    "    <div class=\"panel-heading\">\n",
    "        <p><i class=\"fa fa-exclamation-triangle\" aria-hidden=\"true\"></i> Take Note</p>\n",
    "    </div>\n",
    "    <div class=\"panel-body\">\n",
    "        <p>Any variables used in the `while` statement condition need to be initialised before the `while` statement, otherwise *Python* will throw a `NameError`. These variables also need to be initialised such that the boolean condition is `True` otherwise the body in the `while` statement will never executed.</p>\n",
    "        <p>Any variables used in the `while` statement condition need to be updated in the body so that the condition becomes `False`, eventually, and the loop terminates. If these variable are not updated you will get an infinite loop. If these variables are updated incorrectly you could either get an infinite loop or the loop could terminate prematurely.</p>\n",
    "    </div>\n",
    "</div>"
   ]
  },
  {
   "cell_type": "markdown",
   "metadata": {},
   "source": [
    "### Taylor series\n",
    "\n",
    "Now that we know how to write conditional statements, we can re-program the Taylor series used to compute $\\pi$ using a `while` statement. The value of $\\pi$ can be computed from the following Taylor series:"
   ]
  },
  {
   "cell_type": "markdown",
   "metadata": {},
   "source": [
    "$$\n",
    "    \\pi = 4 \\sum^{\\infty}_{k=0}\n",
    "    \\frac{\n",
    "        \\left( -1 \\right)^k\n",
    "    }{\n",
    "        2k + 1\n",
    "    } = 4 \\left[ \n",
    "        1 - \\frac{1}{3} + \\frac{1}{5} - \\frac{1}{7} + \\frac{1}{9} - \\dots\n",
    "    \\right]\n",
    "$$"
   ]
  },
  {
   "cell_type": "code",
   "execution_count": null,
   "metadata": {},
   "outputs": [],
   "source": [
    "def taylor_pi(accuracy):\n",
    "    k = 0\n",
    "    pi = 0  # summation variable\n",
    "    term = 1  # initialization must be greater than accuracy, else the loop won't start\n",
    "\n",
    "    while abs(term) > accuracy: \n",
    "        term = 4 * (-1)**k / (2*k + 1)  # term is computed from k, so if k does not update we get an infinite loop\n",
    "        pi = pi + term \n",
    "        k = k + 1 \n",
    "\n",
    "    return pi, k"
   ]
  },
  {
   "cell_type": "code",
   "execution_count": null,
   "metadata": {},
   "outputs": [],
   "source": [
    "pi, cnt = taylor_pi(accuracy=1e-3)\n",
    "print('pi:', pi)\n",
    "print('cnt:', cnt)"
   ]
  },
  {
   "cell_type": "markdown",
   "metadata": {},
   "source": [
    "Looking at the ouput of this approximation we needed to sum the first 2001 terms in the Taylor series to compute the value of $\\pi$ within an accuracy of `1e-3`.\n",
    "\n",
    "The most important feature of the above program is the use of the `while` statement. Even though you as the programmer might quite easily recognise that you need to use a `while` statement, it is more important (and often more challenging) to find the correct condition which must be used to decide whether or not to execute the loop again. In this particular case we will repeat the loop, which adds additional terms in the Taylor series, as long as the *magnitude* of these terms are *greater than* some specified small number (I've used the name `accuracy` in this program)."
   ]
  },
  {
   "cell_type": "markdown",
   "metadata": {},
   "source": [
    "<div class=\"panel panel-info\">\n",
    "    <div class=\"panel-heading\">\n",
    "        <p><i class=\"fa fa-info-circle\" aria-hidden=\"true\"></i> More Information</p>\n",
    "    </div>\n",
    "    <div class=\"panel-body\">\n",
    "    <p>The <code>abs</code> function used in the above example returns the absolute value of the input. Use the <code>help</code> function to find out more. It is used in this case to check whether or not the *absolute* value of the next term is larger than the value assigned to the name <code>accuracy</code>. A large negative term will not satisfy the <code>while</code> condition and the loop will terminate prematurely, although the addition of such a large negative term still has a significant impact on the accuracy of the function value approximation.</p>\n",
    "    </div>\n",
    "</div>"
   ]
  },
  {
   "cell_type": "markdown",
   "metadata": {},
   "source": [
    "In the above program, we initialise the name `pi` to zero as before. We also initialise the name `k` to zero and we assign a value of `1e-3` to the name `accuracy` (when we use the function). Next, we define a value of `1` to the `term` name. This might not make any sense, but it is required to ensure that the `while` condition is `True` for the very first iteration. As long as we start off with a value on `term` that is greater than `accuracy`, the `while` condition is `True` and the loop will be executed at least once.\n",
    "\n",
    "Just to illustrate that there exist many solutions to the same programming problem, consider the following alternative:"
   ]
  },
  {
   "cell_type": "code",
   "execution_count": null,
   "metadata": {},
   "outputs": [],
   "source": [
    "def taylor_pi(accuracy):\n",
    "    k = 0\n",
    "    term = (4.0 * (-1)**k) / (2*k + 1)  # initialization must be greater than accuracy, else the loop won't start\n",
    "    pi = term  # summation variable\n",
    "\n",
    "    while abs(term) > accuracy: \n",
    "        k = k + 1\n",
    "        term = 4 * (-1)**k / (2*k + 1)  # term is computed from k, so if k does not update we get an infinite loop\n",
    "        pi = pi + term \n",
    "\n",
    "    return pi, k+1"
   ]
  },
  {
   "cell_type": "code",
   "execution_count": null,
   "metadata": {},
   "outputs": [],
   "source": [
    "pi, cnt = taylor_pi(accuracy=1e-3)\n",
    "print('pi:', pi)\n",
    "print('cnt:', cnt)"
   ]
  },
  {
   "cell_type": "markdown",
   "metadata": {},
   "source": [
    "In this implementation, the first Taylor term is computed outside the `while` statement. The subsequent terms are computed inside the `while` statement. The benefit of this solution is that we do not need to assign some artificial initial value to `term` just to make sure the `while` condition is `True` for the first iteration. Also note that the number of terms added is now given by `k+1` instead of `k`. This is because we now increment the value of `k` at the\n",
    "start of the loop instead of the end of the loop."
   ]
  },
  {
   "cell_type": "markdown",
   "metadata": {},
   "source": [
    "<div class=\"panel panel-info\">\n",
    "    <div class=\"panel-heading\">\n",
    "        <p><i class=\"fa fa-info-circle\" aria-hidden=\"true\"></i> More Information</p>\n",
    "    </div>\n",
    "    <div class=\"panel-body\">\n",
    "    <p>This is a very typical usage of a <code>while</code> statement. Frequently we will try to solve a problem, but we will not know in advance what the solution is. So we generate a sequence of trial solutions to the problem. Usually, trial solutions improve i.e. every new computed trial solution is superior to the previous trial solutions. If the trial solutions produce a series of approximations that tend towards a specific fixed value, we say that the method (or solution) converges. We test for convergence by simply checking if the difference between consecutive solutions are smaller than some small specified value. - I refer to this small value as the *accuracy*, or *tolerance* of the computation. This process of repeatedly computing a trial solution to a problem until some condition is met, is called *iteration*.</p>\n",
    "    </div>\n",
    "</div>\n"
   ]
  },
  {
   "cell_type": "markdown",
   "metadata": {},
   "source": [
    "We can also use a different condition for the `while` loop statement. I've mentioned before that we can stop the loop if the function value approximation is close to an existing solution.\n",
    "\n",
    "The following program illustrates:"
   ]
  },
  {
   "cell_type": "code",
   "execution_count": null,
   "metadata": {},
   "outputs": [],
   "source": [
    "import numpy as np\n",
    "\n",
    "def taylor_pi(accuracy):\n",
    "    k = 0\n",
    "    pi = 0  # summation variable\n",
    "    term = 1  # initialization must be greater than accuracy, else the loop won't start\n",
    "\n",
    "    while abs(np.pi - pi) > accuracy: \n",
    "        term = 4 * (-1)**k / (2*k + 1)  # term is computed from k, so if k does not update we get an infinite loop\n",
    "        pi = pi + term \n",
    "        k = k + 1 \n",
    "\n",
    "    return pi, k"
   ]
  },
  {
   "cell_type": "code",
   "execution_count": null,
   "metadata": {},
   "outputs": [],
   "source": [
    "pi, cnt = taylor_pi(accuracy=1e-3)\n",
    "print('pi:', pi)\n",
    "print('cnt:', cnt)"
   ]
  },
  {
   "cell_type": "markdown",
   "metadata": {},
   "source": [
    "In this program we check if the difference between our Taylor series approximation and `numpy`'s value for `pi`, is large enough. If so, we keep on adding terms to the series. Once the difference becomes smaller than `accuracy`, the `while` condition is no longer `True` and the loop terminates."
   ]
  },
  {
   "cell_type": "markdown",
   "metadata": {},
   "source": [
    "## Logical operators\n",
    "\n",
    "Situations may arise where a single boolean expressions is insufficient and a `while` statement may be dependent on multiple expressions. It is in these situations that the `and`, `or` and `not` logical operators become useful to control the outputs of boolean expressions."
   ]
  },
  {
   "cell_type": "markdown",
   "metadata": {},
   "source": [
    "<div class=\"panel panel-info\">\n",
    "    <div class=\"panel-heading\">\n",
    "        <p><i class=\"fa fa-info-circle\" aria-hidden=\"true\"></i> More Information</p>\n",
    "    </div>\n",
    "    <div class=\"panel-body\">\n",
    "    <p>You can get more information about the `and`, `or`, and `not` operators by executing `help(\"and\")` in a *Code Cell*</p>\n",
    "    </div>\n",
    "</div>"
   ]
  },
  {
   "cell_type": "code",
   "execution_count": null,
   "metadata": {},
   "outputs": [],
   "source": [
    "help(\"and\")"
   ]
  },
  {
   "cell_type": "code",
   "execution_count": null,
   "metadata": {},
   "outputs": [],
   "source": [
    "bool_one = True\n",
    "bool_two = False\n",
    "\n",
    "print(not(bool_two))\n",
    "print(bool_one and bool_two)\n",
    "print(bool_one or bool_two)"
   ]
  },
  {
   "cell_type": "markdown",
   "metadata": {},
   "source": [
    "*Python* will first evaluate `bool_one` and `bool_two` before it evaluates the `and` or `or` statements. Play around with the values of `bool_one` and `bool_two` to see how the outputs change.\n",
    "\n",
    "`not` yields the oposite of the boolean given as an input, thus a `True` input becomes `False` and a `False` input becomes `True`."
   ]
  },
  {
   "cell_type": "markdown",
   "metadata": {},
   "source": [
    "  | `bool_one`    |`not(bool_one)`    |\n",
    "  |:-------------:|:----------------: |\n",
    "  | `False`       | `True`            |\n",
    "  | `True`        | `False`           |"
   ]
  },
  {
   "cell_type": "markdown",
   "metadata": {},
   "source": [
    "Both `bool_one` and `bool_two` have to be `True` for the `and` statement to yield `True`."
   ]
  },
  {
   "cell_type": "markdown",
   "metadata": {},
   "source": [
    "  | `bool_one`    | `bool_two`    | `bool_one and bool_two`         |\n",
    "  |:-------------:|:-------------:| :-----------------------------: |\n",
    "  | `False`       | `False`       | `False`                         |\n",
    "  | `False`       | `True`        | `False`                         |\n",
    "  | `True`        | `False`       | `False`                         |\n",
    "  | `True`        | `True`        | `True`                          |"
   ]
  },
  {
   "cell_type": "markdown",
   "metadata": {},
   "source": [
    "Either `bool_one` or `bool_two` has to be `True` for the `or` statement to yield `True`."
   ]
  },
  {
   "cell_type": "markdown",
   "metadata": {},
   "source": [
    " | `bool_one`       | `bool_two`       | `bool_one or bool_two`          |\n",
    " | :---------------:| :---------------:| :------------------------------:|\n",
    " | `False`          | `False`          |            `False`              |\n",
    " | `False`          | `True`           |             `True`              |\n",
    " | `True`           | `False`          |             `True`              |\n",
    " | `True`           | `True`           |             `True`              |"
   ]
  },
  {
   "cell_type": "markdown",
   "metadata": {},
   "source": [
    "## More examples\n",
    "\n",
    "### Dice game\n",
    "\n",
    "In this example, we will simulate a dice game whereby two dice are thrown until they come up \"boxcars\" (6 and 6) or \"snake eyes\" (1 and 1). The function then returns how many throws were required to finish the game and the value of the dice."
   ]
  },
  {
   "cell_type": "code",
   "execution_count": null,
   "metadata": {},
   "outputs": [],
   "source": [
    "import numpy as np\n",
    "\n",
    "def game():\n",
    "    cnt = 0  # count throws variable\n",
    "    run = True  # initialise for the while condition\n",
    "\n",
    "    while run:\n",
    "        die1 = np.random.randint(1, 7)\n",
    "        die2 = np.random.randint(1, 7)\n",
    "        cnt = cnt + 1\n",
    "\n",
    "        run = (die1 != 1 or die2 != 1) and (die1 != 6 or die2 != 6)  # update for the while condition\n",
    "\n",
    "    return cnt, die1"
   ]
  },
  {
   "cell_type": "code",
   "execution_count": null,
   "metadata": {},
   "outputs": [],
   "source": [
    "throws, die = game()\n",
    "print(throws, die)"
   ]
  },
  {
   "cell_type": "markdown",
   "metadata": {},
   "source": [
    "In situations like the one above where compound boolean statements are used, it can sometimes be quite tricky to determine how the `while` condition should be set up to insure the correct ouput. To assist in the matter, truth tables can be used to check that each expression yields what it should. The table for the above example would look like:\n",
    "\n",
    "| `die1` | `die2` | `die1 != 1 or die2 != 1` | `die1 != 6 or die2 != 6` | `run`   |\n",
    "|:------:|:------:|:------------------------:|:------------------------:|:-------:|\n",
    "| 1      | 1      | `False`                  | `True`                   | `False` |\n",
    "| 6      | 6      | `True`                   | `False`                  | `False` |\n",
    "| 1      | 6      | `True`                   | `True`                   | `True`  |\n",
    "| 6      | 1      | `True`                   | `True`                   | `True`  |\n",
    "| 3      | 4      | `True`                   | `True`                   | `True`  |\n",
    "\n",
    "By drawing up each potential output (and printing the corresponding statements in the code), it is easier to identify which conditions may produce incorrect results."
   ]
  },
  {
   "cell_type": "markdown",
   "metadata": {},
   "source": [
    "<div class=\"panel panel-info\">\n",
    "    <div class=\"panel-heading\">\n",
    "        <p><i class=\"fa fa-info-circle\" aria-hidden=\"true\"></i> More Information</p>\n",
    "    </div>\n",
    "    <div class=\"panel-body\">\n",
    "    <p>The function <code>randint</code> generates random integers and is part of `numpy`'s sub-module <code>random</code>. For more information use <code>np.info</code>.</p>\n",
    "    </div>\n",
    "</div>"
   ]
  },
  {
   "cell_type": "markdown",
   "metadata": {},
   "source": [
    "## Debugging\n",
    "\n",
    "When working with `while` statements there are a few things to consider for the condition:\n",
    "\n",
    "1. Any variables, used in the `while` condition, need to be initialized before *Python* tests the condition for the very first time, else *Python* will throw a `NameError`.\n",
    "\n",
    "2. If the variables, used in the `while` condition, are not initialized correctly (such that the condition is `False`) then the body of the `while` statement will never execute. Sometimes, but very rarely, this is the required behaviour.\n",
    "\n",
    "3. If the variables, used in the `while` condition, are not updated in the body of the `while` statement then you will get an infinite loop as the condition will never changes from `True` to `False`.\n",
    "\n",
    "4. If the variables, used in the `while` condition, are updated incorrectly in the body of the `while` statement then you could either get an infinite loop or the loop could terminate prematurely.\n",
    "\n",
    "When starting with `while` statements or when trying to debug your code it is often useful to start with a `for` statement purely to force the repetition a few times and inside the body print out each of the variables to make sure each variable is behaving as expected. Once you are sure each variable is behaving as expected then replace the `for` statement with the `while` statement.\n",
    "\n",
    "For example, the follow `while` statement yields an infinite loop:"
   ]
  },
  {
   "cell_type": "code",
   "execution_count": null,
   "metadata": {},
   "outputs": [],
   "source": [
    "k = 0\n",
    "pi = 0\n",
    "term = 1\n",
    "while abs(term) > 1e-3: \n",
    "    term = 4 * -1**k / (2*k + 1)\n",
    "    pi = pi + term \n",
    "print(pi)"
   ]
  },
  {
   "cell_type": "markdown",
   "metadata": {},
   "source": [
    "<div class=\"panel panel-danger\">\n",
    "    <div class=\"panel-heading\">\n",
    "        <p><i class=\"fa fa-exclamation-triangle\" aria-hidden=\"true\"></i> Take Note</p>\n",
    "    </div>\n",
    "    <div class=\"panel-body\">\n",
    "        <p>Remember that a star `*` in the `In` prompt (`In [*]`) indicates that *Python* is busy with the execution of that *Code Cell*. You can stop (interrupt) the execution of an infinite loop by clicking on the \"stop\" button in the toolbar or by clicking `Kernel` in the menu and then `Interrupt`.</p>\n",
    "    </div>\n",
    "</div>"
   ]
  },
  {
   "cell_type": "markdown",
   "metadata": {},
   "source": [
    "If we replace the `while` statement with a `for` statement and print out the variable in question (this being `term`, as the condition is only computed from `term`) we can see that `term` does not change at all. Looking closer at the computation of `term` we see that it is computed using only `k` which is initialized as `0` but never updated in the loop."
   ]
  },
  {
   "cell_type": "code",
   "execution_count": null,
   "metadata": {},
   "outputs": [],
   "source": [
    "k = 0\n",
    "pi = 0\n",
    "term = 1\n",
    "#while abs(term) > 1e-3:\n",
    "for i in range(10):\n",
    "    term = 4 * -1**k / (2*k + 1)\n",
    "    print(term)\n",
    "    pi = pi + term \n",
    "print(pi)"
   ]
  },
  {
   "cell_type": "markdown",
   "metadata": {},
   "source": [
    "After added the update (line 9) for `k` we can see that `term` now changes and the absolute value gets smaller, however we are not getting the expected alternating sign. Looking closer at the computation of `term`, again, we see that there are missing brackets around the `-1`."
   ]
  },
  {
   "cell_type": "code",
   "execution_count": null,
   "metadata": {},
   "outputs": [],
   "source": [
    "k = 0\n",
    "pi = 0\n",
    "term = 1\n",
    "#while abs(term) > 1e-3:\n",
    "for i in range(10):\n",
    "    term = 4 * -1**k / (2*k + 1)\n",
    "    print(term)\n",
    "    pi = pi + term \n",
    "    k = k + 1\n",
    "print(pi)"
   ]
  },
  {
   "cell_type": "markdown",
   "metadata": {},
   "source": [
    "After adding these missing brackets we can see that `term` is now behaving as expected and we can do a few hand calculations (for the first one or two repitions) to verify the values are also correct."
   ]
  },
  {
   "cell_type": "code",
   "execution_count": null,
   "metadata": {},
   "outputs": [],
   "source": [
    "k = 0\n",
    "pi = 0\n",
    "term = 1\n",
    "#while abs(term) > 1e-3:\n",
    "for i in range(10):\n",
    "    term = 4 * (-1)**k / (2*k + 1)\n",
    "    print(term)\n",
    "    pi = pi + term \n",
    "    k = k + 1\n",
    "print(pi)"
   ]
  },
  {
   "cell_type": "markdown",
   "metadata": {},
   "source": [
    "After debugging the body of the `for` statement, by printing out each variable and verifiying that each variable behaves as expected and the values of each variable ties up with a few hand calculations (for the first one or two repitions), we can now replace the `for` statement with the `while` statement:"
   ]
  },
  {
   "cell_type": "code",
   "execution_count": null,
   "metadata": {},
   "outputs": [],
   "source": [
    "k = 0\n",
    "pi = 0\n",
    "term = 1\n",
    "while abs(term) > 1e-3:\n",
    "    term = 4 * (-1)**k / (2*k + 1)\n",
    "    pi = pi + term \n",
    "    k = k + 1\n",
    "print(pi)"
   ]
  },
  {
   "cell_type": "markdown",
   "metadata": {},
   "source": [
    "Another thing that can sometimes be a little tricky is getting the boolean expression for the `while` condition. Sometimes it is easier to get the condition for when the `while` loop should stop, but converting this to a \"run condition\" can be tricky. In cases like this you can either use the `not` logical operator to negate the \"stop condition\" giving you the \"run condition\", in other words: `run_condition = not(stop_condition)`. You can also take into account that the \"run condition\" is the oposite of the \"stop condition\" and for example the oposite of less than (`<`) is greater than or equal to (`>=`), the oposite of `and` is `or`, the oposite of `or` is `and`, etc."
   ]
  },
  {
   "cell_type": "markdown",
   "metadata": {},
   "source": [
    "For example, if we want to simulate the throwing of two dice until both land on the value 4:"
   ]
  },
  {
   "cell_type": "code",
   "execution_count": null,
   "metadata": {},
   "outputs": [],
   "source": [
    "import numpy as np\n",
    "\n",
    "one = np.random.randint(1, 7)\n",
    "two = np.random.randint(1, 7)\n",
    "\n",
    "#stop when (one == 4) and (two == 4)\n",
    "while (one != 4) or (two != 4):\n",
    "    one = np.random.randint(1, 7)\n",
    "    two = np.random.randint(1, 7)\n",
    "\n",
    "print(one, two)"
   ]
  },
  {
   "cell_type": "markdown",
   "metadata": {},
   "source": [
    "We can easily get the \"stop condition\" - when both dice land on the value 4, `(one == 4) and (two == 4)`, - and the \"run condition\" is the oposite of this. The oposite of equal (`==`) is not equal (`!=`) and the oposite of `and` is `or`, so the `while` condition (the \"run condition\") is `(one != 4) or (two != 4)`. We could also use the `not` logical operator to negate the \"stop condition\" giving us the \"run condition\":"
   ]
  },
  {
   "cell_type": "code",
   "execution_count": null,
   "metadata": {},
   "outputs": [],
   "source": [
    "import numpy as np\n",
    "\n",
    "one = np.random.randint(1, 7)\n",
    "two = np.random.randint(1, 7)\n",
    "\n",
    "#stop when (one == 4) and (two == 4)\n",
    "while not((one == 4) and (two == 4)):\n",
    "    one = np.random.randint(1, 7)\n",
    "    two = np.random.randint(1, 7)\n",
    "\n",
    "print(one, two)"
   ]
  },
  {
   "cell_type": "markdown",
   "metadata": {},
   "source": [
    "## Glossary\n",
    "\n",
    "**comparison operator**: One of the operators that compares its operands: `==`, `!=`, `>`, `<`, `>=`, and `<=`.\n",
    "\n",
    "**condition**: The boolean expression in a `while` statement that determines that controls the flow of execution.\n",
    "\n",
    "**boolean expression**: An expression whose value is either `True` or `False`.\n",
    "\n",
    "**infinite loop**: A loop in which the terminating condition is never satisfied.\n",
    "\n",
    "**initialisation**: An assignment that gives an initial value to a variable that will be updated.\n",
    "\n",
    "**logical operator**: One of the operators that combines boolean expressions: `and`, `or`, and `not`.\n",
    "\n",
    "**update**: An assignment where the new value of the variable depends on the old."
   ]
  },
  {
   "cell_type": "markdown",
   "metadata": {},
   "source": [
    "## Exercises\n",
    "\n",
    "1) Write a function (called `add_ints`) that takes a positive integer `N` as input. This funtion must then add the numbers $1, 2, 3, \\dots$ together as long as the sum is less than the input `N`. This function must return the sum of numbers."
   ]
  },
  {
   "cell_type": "markdown",
   "metadata": {},
   "source": [
    "2)  Write a function (called `add_randints`) that takes a positive integer `N` as input. This funtion must add random integers between 1 and 20 (inclusive) together until either `N` is exceeded or 5000 numbers were added. This function must return the sum of numbers."
   ]
  },
  {
   "cell_type": "markdown",
   "metadata": {},
   "source": [
    "3) Write a function (called `throw_die`) that simulates a single dice being thrown. This function must continue to simulate the throw of a dice until an even number is thrown. This function must return the number of times the die was thrown."
   ]
  },
  {
   "cell_type": "markdown",
   "metadata": {},
   "source": [
    "4) The geometric series for 2 is given by \n",
    "\n",
    "$$\n",
    "2 = \\sum_{n=0}^\\infty 2^{-n}\n",
    "$$\n",
    "\n",
    "The geometric series only equals 2 when an infinite number of terms have been summed together. Every term that you add to the geometric series gets the approximation closer to 2.\n",
    "\n",
    "Write a function (called `approx2`) that takes an accuracy as input. This function must return the approximation to 2 using the given geometric series. The function must return the approximation when the numerical error is smaller than the required accuracy.\n",
    "\n",
    "Use the absolute error to determine whether the required accuracy of the approximation is obtained i.e. take the absolute value of the difference between the series approximation and 2\n",
    "\n",
    "$$\n",
    "    \\left| \\text{approximation} - 2\\right|\n",
    "$$"
   ]
  },
  {
   "cell_type": "markdown",
   "metadata": {},
   "source": [
    "5) Redo Question 4 but instead of the absolute error use a numerical error i.e. compute the absolute difference of two consecutive terms of the geometric series i.e. $n$ and $n-1$. Look at the hint below:\n",
    "\n",
    "$$\n",
    "    \\left| 2^{-(n)}-2^{-(n-1)} \\right|\n",
    "$$"
   ]
  },
  {
   "cell_type": "markdown",
   "metadata": {},
   "source": [
    "6) Recall that the Fibonacci series is given by the formula\n",
    "\n",
    "$$\n",
    "    L_{k} = L_{k-2} + L_{k-1} \\qquad \\text{for} \\quad k=2,3,\\dots\n",
    "$$\n",
    "\n",
    "with $L_0 = 0$ and $L_1 = 1$. For this exercise you have to compute the limit of the ratio of two consecutive terms in the series. I.e. compute:\n",
    "\n",
    "$$\n",
    "    p = \\lim_{k \\rightarrow \\infty} \\frac{L_k}{L_{k-1}}\n",
    "$$\n",
    "\n",
    "Of course we cannot compute $p$ using the equation above, because we cannot generate an infinite number of terms. However, we can generate the series:\n",
    "\n",
    "$$\n",
    "    \\frac{L_2}{L_1}, \\frac{L_3}{L_2}, \\frac{L_4}{L_3}, \\dots\n",
    "$$\n",
    "\n",
    "As we generate a new term in the Fibonacci sequence. The series above is supposed to converge to the value of $p$.\n",
    "\n",
    "Write a function (called `fibo_limit`) to compute $p$. This function must return $p$ along with a list of the terms required in the series. Use the absolute difference of two consecutive series terms to compute the error."
   ]
  },
  {
   "cell_type": "markdown",
   "metadata": {},
   "source": [
    "7) To what value does\n",
    "\n",
    "$$\n",
    "    \\frac{1}{1} + \\frac{1}{2} - \\frac{1}{4} + \\frac{1}{8} - \\frac{1}{16} + \\frac{1}{32} - \\dots\n",
    "$$\n",
    "\n",
    "converge?\n",
    "\n",
    "Write a function (called `series`) that computes (approximates) the sequence within a specified tolerance (i.e. when the absolute difference of two consecutively computed sequence approximations are less than the specified tolerance). The tolerance must be given as an input to the function. This function must return the approximation."
   ]
  },
  {
   "cell_type": "markdown",
   "metadata": {},
   "source": [
    "8) What is the limit value of\n",
    "\n",
    "$$\n",
    "    \\lim_{x \\rightarrow \\infty} f(x) = \\lim_{x \\rightarrow \\infty} \\frac{2 x}{1 + x}\n",
    "$$\n",
    "\n",
    "Write a function (called `limit`) that computes (approximates) the limit within a specified tolerance (i.e. when the absolute difference of two consecutively computed sequence approximations are less than the specified tolerance). The tolerance must be given as an input to the function. This function must return the approximation."
   ]
  },
  {
   "cell_type": "markdown",
   "metadata": {},
   "source": [
    "9) The sine function can be approximated by the following infinite series:\n",
    "\n",
    "$$\n",
    "\\sin(x) = x - \\frac{x^3}{3!} + \\frac{x^5}{5!} - \\frac{x^7}{7!} + \\dots\n",
    "$$\n",
    "\n",
    "Write a function (called `sine`) that takes `x` and an accuracy as input. This function must return the approximation of $\\sin(x)$ to within the specified accuracy."
   ]
  },
  {
   "cell_type": "markdown",
   "metadata": {},
   "source": [
    "10) Write a function (called `cos`) that approximates the `cos` function with the Taylor series expansion (given below) to within a required accuracy (given as an input to the function).\n",
    "\n",
    "$$\n",
    "    \\cos(x) = \\sum_{n=0}^{\\infty} \\frac{(-1)^n}{(2n)!} x^{2n}\n",
    "$$"
   ]
  },
  {
   "cell_type": "markdown",
   "metadata": {},
   "source": [
    "11) The mathematician Srinivasa Ramanujan found an infinite series that can be used to generate a numerical approximation of $1/\\pi$:\n",
    "\n",
    "$$\n",
    "\\frac{1}{\\pi} = \\frac{2\\sqrt{2}}{9801} \\sum_{k=0}^{\\infty} \\frac{\\left(4k\\right)!\\left(1103 + 26390k\\right)}{\\left(k!\\right)^4 396^{4k}}\n",
    "$$\n",
    "\n",
    "Write a function (called `estimate_pi`) that takes an accuracy as input. This function must return the approximation of $1/\\pi$ to within the specified accuracy."
   ]
  },
  {
   "cell_type": "code",
   "execution_count": null,
   "metadata": {},
   "outputs": [],
   "source": []
  }
 ],
 "metadata": {
  "anaconda-cloud": {},
  "kernelspec": {
   "display_name": "Python 3",
   "language": "python",
   "name": "python3"
  },
  "language_info": {
   "codemirror_mode": {
    "name": "ipython",
    "version": 3
   },
   "file_extension": ".py",
   "mimetype": "text/x-python",
   "name": "python",
   "nbconvert_exporter": "python",
   "pygments_lexer": "ipython3",
   "version": "3.6.3"
  }
 },
 "nbformat": 4,
 "nbformat_minor": 1
}
