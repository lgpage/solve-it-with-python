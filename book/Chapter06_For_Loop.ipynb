{
 "cells": [
  {
   "cell_type": "markdown",
   "metadata": {},
   "source": [
    "<div class=\"jumbotron jumbotron-fluid\">\n",
    "  <div class=\"container\">\n",
    "    <h1 class=\"display-3\">For Loop</h1>\n",
    "    <p class=\"lead\">Iterate over the elements of a sequence (such as a string, tuple, list or array) or other iterable object</p>\n",
    "  </div>\n",
    "</div>"
   ]
  },
  {
   "cell_type": "markdown",
   "metadata": {},
   "source": [
    "- [Overview](#Overview)\n",
    "- [Indentation](#Indentation)\n",
    "- [Examples](#Examples)\n",
    "    - [Summing](#Summing)\n",
    "    - [Taylor series](#Taylor-series)\n",
    "    - [Factorial](#Factorial)\n",
    "    - [Fibonacci series](#Fibonacci-series)\n",
    "- [Looping with indices](#Looping-with-indices)\n",
    "- [Nested loops](#Nested-loops)\n",
    "- [Debugging](#Debugging)\n",
    "- [Glossary](#Glossary)\n",
    "- [Exercises](#Exercises)"
   ]
  },
  {
   "cell_type": "markdown",
   "metadata": {},
   "source": [
    "## Overview\n",
    "\n",
    "\n",
    "Computers are often used to automate repetitive tasks since repeating identical or similar tasks without making errors is something that computers do well and people do poorly. In a computer program, repetition is also called iteration.\n",
    "\n",
    "The `for` statement is used to iterate over (step through) the elements of a sequence (such as a string, tuple, list or array) or other iterable object. In other words the `for` statement can be used to repeat a block of code a predetermined number of times (once for each element in the sequence). The framework of the `for` statement is:"
   ]
  },
  {
   "cell_type": "markdown",
   "metadata": {},
   "source": [
    "<img src=\"./figures/for_loop_framework.svg\" alt=\"for statement framework\" style=\"height: 400px;\"/>"
   ]
  },
  {
   "cell_type": "markdown",
   "metadata": {},
   "source": [
    "where `sequence` is some iterable object like a string, tuple, list, or array and `var` is a variable name that gets updated each time the loop repeats. The syntax of a `for` statement is similar to a function definition. It has a header that ends with a colon and an indented body. The body can contain any number of statements. This type of flow is called a loop because the third step loops back around to the top."
   ]
  },
  {
   "cell_type": "markdown",
   "metadata": {},
   "source": [
    "<div class=\"panel panel-danger\">\n",
    "    <div class=\"panel-heading\">\n",
    "        <p><i class=\"fa fa-exclamation-triangle\" aria-hidden=\"true\"></i> Take Note</p>\n",
    "    </div>\n",
    "    <div class=\"panel-body\">\n",
    "    <p>Note the double colon (`:`) at the end of the `for` statement and the indentation infront of the body. This tells *Python* where the header ends and which program statements (lines of code) belong to the body that will be repeated.\n",
    "</p>\n",
    "    </div>\n",
    "</div>"
   ]
  },
  {
   "cell_type": "markdown",
   "metadata": {},
   "source": [
    "<div class=\"panel panel-info\">\n",
    "    <div class=\"panel-heading\">\n",
    "        <p><i class=\"fa fa-info-circle\" aria-hidden=\"true\"></i> More Information</p>\n",
    "    </div>\n",
    "    <div class=\"panel-body\">\n",
    "    <p>You can get more information about the `for` statement by executing `help(\"for\")` in a *Code Cell*</p>\n",
    "    </div>\n",
    "</div>"
   ]
  },
  {
   "cell_type": "code",
   "execution_count": null,
   "metadata": {},
   "outputs": [],
   "source": [
    "help(\"for\")"
   ]
  },
  {
   "cell_type": "markdown",
   "metadata": {},
   "source": [
    "Consider the following example:"
   ]
  },
  {
   "cell_type": "code",
   "execution_count": null,
   "metadata": {},
   "outputs": [],
   "source": [
    "print(\"Begin\")\n",
    "for val in [20, 30, 10, 0]:\n",
    "    print(\"val =\", val)\n",
    "print(\"End\")"
   ]
  },
  {
   "cell_type": "markdown",
   "metadata": {},
   "source": [
    "A `for` statement is also called a loop because the flow of execution runs through the body and then loops back to the top. Each time through the loop, the next number in the list is assigned to the variable name `val`. The loop continues until it has gone through all numbers in the list.\n",
    "\n",
    "This example could also have be written as:"
   ]
  },
  {
   "cell_type": "code",
   "execution_count": null,
   "metadata": {},
   "outputs": [],
   "source": [
    "%load_ext nbtutor"
   ]
  },
  {
   "cell_type": "code",
   "execution_count": null,
   "metadata": {},
   "outputs": [],
   "source": [
    "%%nbtutor -rf\n",
    "print(\"Begin\")\n",
    "seq = [20, 30, 10, 0]\n",
    "for val in seq:\n",
    "    print(\"val =\", val)\n",
    "print(\"End\")"
   ]
  },
  {
   "cell_type": "markdown",
   "metadata": {},
   "source": [
    "Execute the *Code Cell* and step through the code execution line-by-line. Executing the *Code Cell* above does the following:\n",
    "- Line 2: Creates the objects `20`, `30`, `10`, and `0` in memory as well as a `list` object with the name `seq`.\n",
    "- Line 3: Steps through the objects in the list `seq` one at a time and assigns the name `val` to each object\n",
    "    - The first time the loop executes `val` gets assigned to the first object in the list `seq`, which is `20`\n",
    "    - The second time the loop executes `val` gets assigned to the second object in the list `seq`, which is `30`\n",
    "    - The third time the loop executes `val` gets assigned to the third object in the list `seq`, which is `10`\n",
    "    - Etc.\n",
    "    - Once the loop has stepped through all objects in the list `seq` then the loop terminates\n",
    "- Line 4: Gets repeated for each object in the list `seq`\n",
    "    "
   ]
  },
  {
   "cell_type": "markdown",
   "metadata": {},
   "source": [
    "## Indentation\n",
    "\n",
    "Indentation means the amount of white space placed in front of your code. *Python* uses 4 spaces as 1 indentation and it is this indentation that \"tells\" *Python* which statements must get repeated as they belong inside the `for` statement.\n",
    "\n",
    "Consider the following example:"
   ]
  },
  {
   "cell_type": "code",
   "execution_count": null,
   "metadata": {},
   "outputs": [],
   "source": [
    "for var in range(3):\n",
    "    print(\"I’m inside the for loop\")\n",
    "print(\"I’m outside the for loop\")"
   ]
  },
  {
   "cell_type": "markdown",
   "metadata": {},
   "source": [
    "From this you should note that line 2 is executed 3 times and after the loop has terminated only then is line 3 executed. You should also note that the variable `var` is not used inside the loop. The variable `var` will still get assigned to each value in the list as the `for` statement iterates through the list. Place a `print` statement after line 1 to print out the variable `var` and verify this."
   ]
  },
  {
   "cell_type": "markdown",
   "metadata": {},
   "source": [
    "<div class=\"panel panel-danger\">\n",
    "    <div class=\"panel-heading\">\n",
    "        <p><i class=\"fa fa-exclamation-triangle\" aria-hidden=\"true\"></i> Take Note</p>\n",
    "    </div>\n",
    "    <div class=\"panel-body\">\n",
    "    <p>Be very careful and aware of indentation when typing your programs, as this can sometimes lead to unexpected results and logic errors.</p>\n",
    "    <p>There is a big difference between the following two examples. Make sure you know the difference in the results of these two examples and why they are different !!!</p>\n",
    "    </div>\n",
    "</div>"
   ]
  },
  {
   "cell_type": "code",
   "execution_count": null,
   "metadata": {},
   "outputs": [],
   "source": [
    "foo = 0\n",
    "for var in range(5):\n",
    "    print(\"foo =\", foo)\n",
    "    foo = foo + var\n",
    "print(\"foo =\", foo)"
   ]
  },
  {
   "cell_type": "code",
   "execution_count": null,
   "metadata": {},
   "outputs": [],
   "source": [
    "foo = 0\n",
    "for var in range(5):\n",
    "    print(\"foo =\", foo)\n",
    "foo = foo + var\n",
    "print(\"foo =\", foo)"
   ]
  },
  {
   "cell_type": "markdown",
   "metadata": {},
   "source": [
    "<div class=\"panel panel-info\">\n",
    "    <div class=\"panel-heading\">\n",
    "        <p><i class=\"fa fa-info-circle\" aria-hidden=\"true\"></i> More Information</p>\n",
    "    </div>\n",
    "    <div class=\"panel-body\">\n",
    "    <p>Most editors (like *Jupyter Notebook*) will automatically add 4 spaces when you push the `tab` key. And `Shift + tab` will automatically remove 4 spaces. This can also be used if you have highlighted several lines of code. Try it !!</p>\n",
    "    </div>\n",
    "</div>"
   ]
  },
  {
   "cell_type": "markdown",
   "metadata": {},
   "source": [
    "## Examples\n",
    "\n",
    "Many of the examples that follow can be solved using lists and/or arrays alone without a `for` statement. I recommend, as a means of practice, trying to solve each of the following examples in as many different ways as you can."
   ]
  },
  {
   "cell_type": "markdown",
   "metadata": {},
   "source": [
    "### Summing\n",
    "\n",
    "As a first example let us create a function that computes the sum of the first `N` integers:"
   ]
  },
  {
   "cell_type": "markdown",
   "metadata": {},
   "source": [
    "$$\n",
    "    \\sum^{N}_{k=1} k = 1 + 2 + 3 + \\dots + N\n",
    "$$"
   ]
  },
  {
   "cell_type": "code",
   "execution_count": null,
   "metadata": {},
   "outputs": [],
   "source": [
    "def sum_ints(N):\n",
    "    summation = 0\n",
    "    for term in range(1, N+1):\n",
    "        summation = summation + term\n",
    "    return summation"
   ]
  },
  {
   "cell_type": "code",
   "execution_count": null,
   "metadata": {},
   "outputs": [],
   "source": [
    "print(sum_ints(100))"
   ]
  },
  {
   "cell_type": "markdown",
   "metadata": {},
   "source": [
    "The `range` object is used to create the sequence of terms from `1` up to (and including) `N`. The `for` statement is used to step through each term in this sequence. The `summation` variable is updated each time trough the loop by taking the current `summation` value plus the `term` value."
   ]
  },
  {
   "cell_type": "markdown",
   "metadata": {},
   "source": [
    "### Taylor series\n",
    "\n",
    "A Taylor series is an approximation to any function using a series of polynomial terms. In the limit of using an infinite number of terms, the approximation is exact. Although a Taylor series does not intuitively require a `for`  statement, it is useful to illustrate the `for` statement.\n",
    "\n",
    "A feature of a Taylor series approximation is that each new term contributes less to the function approximation than the terms before. So, at some point the additional Taylor terms don’t contribute much to the overall function value and we might as well stop adding additional terms. Therefore, when we use a computer to compute a function\n",
    "value using a Taylor series approximation, we will always use a finite number of terms.\n",
    "\n",
    "As an example, the value of $\\pi$ can be computed from the following Taylor series:"
   ]
  },
  {
   "cell_type": "markdown",
   "metadata": {},
   "source": [
    "$$\n",
    "    \\pi = 4 \\sum^{\\infty}_{k=0}\n",
    "    \\frac{\n",
    "        \\left( -1 \\right)^k\n",
    "    }{\n",
    "        2k + 1\n",
    "    } = 4 \\left[ \n",
    "        1 - \\frac{1}{3} + \\frac{1}{5} - \\frac{1}{7} + \\frac{1}{9} - \\dots\n",
    "    \\right]\n",
    "$$"
   ]
  },
  {
   "cell_type": "markdown",
   "metadata": {},
   "source": [
    "Suppose that we want to write a function that approximates the value of $\\pi$ by using the above Taylor series and `N` number of terms:"
   ]
  },
  {
   "cell_type": "code",
   "execution_count": null,
   "metadata": {},
   "outputs": [],
   "source": [
    "def taylor_pi(N):\n",
    "    pi = 0\n",
    "    for k in range(N):\n",
    "        term = (-1)**k / (2*k + 1)\n",
    "        pi = pi + term\n",
    "    return 4 * pi"
   ]
  },
  {
   "cell_type": "code",
   "execution_count": null,
   "metadata": {},
   "outputs": [],
   "source": [
    "import numpy as np\n",
    "\n",
    "pi = taylor_pi(100)\n",
    "print(pi)\n",
    "print(np.pi)"
   ]
  },
  {
   "cell_type": "markdown",
   "metadata": {},
   "source": [
    "Compared to the true value of $\\pi = 3.14159\\dots$, the 1st 100 terms of this Taylor series approximation is only accurate to 2 digits. Note that since we start counting at $k = 0$, we only need to repeat the loop up to $k = 99$ to add up the first 100 terms. Also note that we must initialise the name `pi` to zero outside the `for` statement. If we do not do this, *Python* will produce an error message upon executing line 5 for the first time: we’re instructing *Python* to add the value $(-1)^k/(2k+1)$ to the name `pi` (whose value is unknown). If we did not assign zero to the name `pi` outside the `for` statement, we cannot expect *Python* to perform the required computation.\n",
    "\n",
    "If we want to compute $\\pi$ more accurately, we have to sum more terms in this Taylor series. If we compute the sum of the first 1000 terms we get"
   ]
  },
  {
   "cell_type": "code",
   "execution_count": null,
   "metadata": {},
   "outputs": [],
   "source": [
    "import numpy as np\n",
    "\n",
    "pi = taylor_pi(1000)\n",
    "print(pi)\n",
    "print(np.pi)"
   ]
  },
  {
   "cell_type": "markdown",
   "metadata": {},
   "source": [
    "Even the first 1000 terms in the Taylor series produces an approximate value for $\\pi$ that is only accurate to 3 digits.\n",
    "\n",
    "Before you decide that Taylor series approximations are of no use, consider the approximation to the exponential function:"
   ]
  },
  {
   "cell_type": "markdown",
   "metadata": {},
   "source": [
    "$$\n",
    "e^x = \\sum^{\\infty}_{k=0} \\frac{x^k}{k!}\n",
    "    = 1 + x + \\frac{1}{2}x^2 + \\frac{1}{6}x^3 + \\dots\n",
    "$$"
   ]
  },
  {
   "cell_type": "markdown",
   "metadata": {},
   "source": [
    "Let us use this Taylor series approximation to compute the value of $e$ (i.e. compute $e^x$ for $x = 1$):"
   ]
  },
  {
   "cell_type": "code",
   "execution_count": null,
   "metadata": {},
   "outputs": [],
   "source": [
    "import numpy as np\n",
    "\n",
    "\n",
    "def taylor_exp(x, N):\n",
    "    exp = 0\n",
    "    for k in range(N):\n",
    "        exp = exp + x**k / np.math.factorial(k)\n",
    "    return exp"
   ]
  },
  {
   "cell_type": "code",
   "execution_count": null,
   "metadata": {},
   "outputs": [],
   "source": [
    "import numpy as np\n",
    "\n",
    "e = taylor_exp(1, 18)\n",
    "print(e)\n",
    "print(np.exp(1))"
   ]
  },
  {
   "cell_type": "markdown",
   "metadata": {},
   "source": [
    "which is accurate to 15 decimals when only summing the first 18 terms. Here we have an example where a few terms in this Taylor series produces a very accurate approximation, whereas the 1000 term approximation to $\\pi$ was still inaccurate."
   ]
  },
  {
   "cell_type": "markdown",
   "metadata": {},
   "source": [
    "### Factorial\n",
    "\n",
    "Let us create a function that computes the factorial of an integer:"
   ]
  },
  {
   "cell_type": "markdown",
   "metadata": {},
   "source": [
    "$$\n",
    "N! = \\prod_{k=1}^{N} k = 1 \\times 2 \\times 3 \\times \\dots \\times N\n",
    "$$"
   ]
  },
  {
   "cell_type": "code",
   "execution_count": null,
   "metadata": {},
   "outputs": [],
   "source": [
    "def factorial(N):\n",
    "    prod = 1\n",
    "    for term in range(1, N+1):\n",
    "        prod = prod * term\n",
    "    return prod"
   ]
  },
  {
   "cell_type": "code",
   "execution_count": null,
   "metadata": {},
   "outputs": [],
   "source": [
    "print(factorial(10))"
   ]
  },
  {
   "cell_type": "markdown",
   "metadata": {},
   "source": [
    "Again the `range` object is used to create the sequence of terms from `1` up to (and including) `N` and the `for` statement is used to step through each term in this sequence. The `prod` variable is updated each time the loop execute by taking the current `prod` value times the `term` value.\n",
    "\n",
    "Would this function work if we initialize `prod = 0`? What would the result be?"
   ]
  },
  {
   "cell_type": "markdown",
   "metadata": {},
   "source": [
    "<div class=\"panel panel-info\">\n",
    "    <div class=\"panel-heading\">\n",
    "        <p><i class=\"fa fa-info-circle\" aria-hidden=\"true\"></i> More Information</p>\n",
    "    </div>\n",
    "    <div class=\"panel-body\">\n",
    "    <p>Remember that you can use the `numpy.math.factorial(N)` function to verify the result of this example.</p>\n",
    "    </div>\n",
    "</div>"
   ]
  },
  {
   "cell_type": "markdown",
   "metadata": {},
   "source": [
    "### Fibonacci series\n",
    "\n",
    "A very famous series was proposed by the mathematician Fibonacci: The first two terms of the series are given by $L_0 = 0$ and $L_1 = 1$. Hereafter, each new term in the series is given by the sum of the previous two terms in the series:"
   ]
  },
  {
   "cell_type": "markdown",
   "metadata": {},
   "source": [
    "$$\n",
    "    L_k = L_{k−1} + L_{k−2} \\qquad \\text{for} \\quad k = 2, 3, 4, \\dots\n",
    "$$"
   ]
  },
  {
   "cell_type": "markdown",
   "metadata": {},
   "source": [
    "Using the above formula, the following sequence is generated: $0, 1, 1, 2, 3, 5, 8, 13, \\dots$\n",
    "\n",
    "Let us first do this problem step by step using *Python* as a calculator. Let us compute the fifth term ($k = 4$):"
   ]
  },
  {
   "cell_type": "code",
   "execution_count": null,
   "metadata": {},
   "outputs": [],
   "source": [
    "L0 = 0\n",
    "L1 = 1\n",
    "L2 = L0 + L1\n",
    "L3 = L1 + L2\n",
    "L4 = L2 + L3\n",
    "print(L4)"
   ]
  },
  {
   "cell_type": "markdown",
   "metadata": {},
   "source": [
    "Let us pretend we are only interested in the fifth term ($k = 4$). The solution above requires five variables with five values. If we require the twentieth term ($k = 19$), we would have twenty variables using this approach.\n",
    "\n",
    "In computing the next term we only need the previous two terms, which means we can get away with only using three variables regardless of how many terms we need to compute. Let us do that by shifting objects. The computed $k$ th term in the $k$ th iteration becomes the ($k − 1$) th term when we increment $k$ by 1. Similarly the ($k − 1$) th term becomes the ($k − 2$) th term. Let us rewrite the above code to use only three variables:"
   ]
  },
  {
   "cell_type": "code",
   "execution_count": null,
   "metadata": {},
   "outputs": [],
   "source": [
    "previous2 = 0\n",
    "previous1 = 1\n",
    "new = previous1 + previous2  # k = 2\n",
    "\n",
    "previous2 = previous1\n",
    "previous1 = new\n",
    "new = previous1 + previous2  # k = 3\n",
    "\n",
    "previous2 = previous1\n",
    "previous1 = new\n",
    "new = previous1 + previous2  # k = 4\n",
    "\n",
    "print(new)"
   ]
  },
  {
   "cell_type": "markdown",
   "metadata": {},
   "source": [
    "Let us see how we would go about computing the $N$ th term ($k = N$) of the Fibonacci series. We know how many terms we want to compute and we have a pattern of what we would like to repeat. So, let us compute the $N$ th term using the `for` statement:"
   ]
  },
  {
   "cell_type": "code",
   "execution_count": null,
   "metadata": {},
   "outputs": [],
   "source": [
    "def fibo(N):\n",
    "    previous2 = 0\n",
    "    previous1 = 1\n",
    "    for k in range(2, N+1):\n",
    "        new = previous1 + previous2\n",
    "        # shift variables for next loop\n",
    "        previous2 = previous1\n",
    "        previous1 = new\n",
    "    return new"
   ]
  },
  {
   "cell_type": "code",
   "execution_count": null,
   "metadata": {},
   "outputs": [],
   "source": [
    "print(fibo(7))"
   ]
  },
  {
   "cell_type": "markdown",
   "metadata": {},
   "source": [
    "It is important to note that when we shift the objects we do it in such a way that we don’t end up with all names bound to the same object. We therefore start with the `previous2` name in line 7, since its current value was used to compute the current $k$ th Fibonacci term and it is not used to compute the next Fibonacci term.\n",
    "We therefore bind the name term `previous2` to the same object bound by `previous1` and similarly we bind the name `previous1` to the same object bound by `new` that we just computed.\n",
    "Now we are ready to increment $k$ to compute the next term of the Fibonacci series. When $k$ is incremented, and the loop repeats, the name `new` will get bound to a new object resulting from `previous1 + previous2`.\n",
    "\n",
    "Let us go one step further and collect the Fibonacci terms into a list:"
   ]
  },
  {
   "cell_type": "code",
   "execution_count": null,
   "metadata": {},
   "outputs": [],
   "source": [
    "def fibo(N):\n",
    "    previous2 = 0\n",
    "    previous1 = 1\n",
    "    store = [previous2, previous1]\n",
    "    for k in range(2, N+1):\n",
    "        new = previous1 + previous2\n",
    "        store.append(new)\n",
    "        # shift variables for next loop\n",
    "        previous2 = previous1\n",
    "        previous1 = new\n",
    "    return store"
   ]
  },
  {
   "cell_type": "code",
   "execution_count": null,
   "metadata": {},
   "outputs": [],
   "source": [
    "print(fibo(7))"
   ]
  },
  {
   "cell_type": "markdown",
   "metadata": {},
   "source": [
    "If it were required of us to store the Fibonacci terms in a list, from the beginning, then this list object and negative indexing makes the idea of taking the previous two terms and adding them together to get the next term a lot easier to follow:"
   ]
  },
  {
   "cell_type": "code",
   "execution_count": null,
   "metadata": {},
   "outputs": [],
   "source": [
    "def fibo(N):\n",
    "    store = [0, 1]\n",
    "    for k in range(2, N+1):\n",
    "        new = store[-1] + store[-2]  # add last two elements in store\n",
    "        store.append(new)\n",
    "    return store"
   ]
  },
  {
   "cell_type": "code",
   "execution_count": null,
   "metadata": {},
   "outputs": [],
   "source": [
    "print(fibo(7))"
   ]
  },
  {
   "cell_type": "markdown",
   "metadata": {},
   "source": [
    "Try modifiy this last example to use only positive indexing instead of negative indexing. You may need a new variable or would you be able to use `k`."
   ]
  },
  {
   "cell_type": "markdown",
   "metadata": {},
   "source": [
    "## Looping with indices\n",
    "\n",
    "Again consider the example of an object falling from a height above the ground.\n",
    "The equations describing the motion of this object, assuming constant acceleration, are:"
   ]
  },
  {
   "cell_type": "markdown",
   "metadata": {},
   "source": [
    "$$ \n",
    "\\begin{align}\n",
    "    a(t) &= g \\: \\text{(constant)} \\\\\n",
    "    v(t) &= \\int a(t) \\: \\mathrm{d}t  =  v_0 + gt \\\\\n",
    "    s(t) &= \\int v(t) \\: \\mathrm{d}t = s_0 + v_0t + 0.5 gt^2\n",
    "\\end{align}\n",
    "$$"
   ]
  },
  {
   "cell_type": "markdown",
   "metadata": {},
   "source": [
    "where $g$ is the gravitationaly acceleration $[m/s^2]$, $v_0$ the initial object velocity $[m/s]$, $s_0$ the initial object height $[m]$ above the ground, and $t$ is the time $[s]$.\n",
    "\n",
    "The time it takes for this object to hit the ground ($t_e$) can be computed using:\n",
    "\n",
    "$$ t_e = \\frac{-b \\pm \\sqrt{b^2 - 4ac}}{2a} $$\n",
    "\n",
    "where\n",
    "$$\n",
    "\\begin{align}\n",
    "    a &= 0.5g = 0.5 (-9.81) \\\\\n",
    "    b &= v_0 \\\\\n",
    "    c &= s_0\n",
    "\\end{align}\n",
    "$$"
   ]
  },
  {
   "cell_type": "markdown",
   "metadata": {},
   "source": [
    "Let us calculate $t_e$ for the following initial values:\n",
    "\n",
    "- $s_0=100$ and $v_0 = 50$\n",
    "- $s_0=200$ and $v_0 = 40$\n",
    "- $s_0=300$ and $v_0 = 30$\n",
    "- $s_0=400$ and $v_0 = 20$\n",
    "- $s_0=500$ and $v_0 = 10$"
   ]
  },
  {
   "cell_type": "code",
   "execution_count": null,
   "metadata": {},
   "outputs": [],
   "source": [
    "def end_time(s0, v0):\n",
    "    a = -0.5 * 9.81\n",
    "    b, c = v0, s0\n",
    "    return (-b - (b**2 - 4*a*c)**0.5) / (2*a)"
   ]
  },
  {
   "cell_type": "code",
   "execution_count": null,
   "metadata": {},
   "outputs": [],
   "source": [
    "#       0    1    2    3    4\n",
    "s0 = [100, 200, 300, 400, 500]\n",
    "v0 = [ 50,  40,  30,  20,  10]\n",
    "\n",
    "for i in range(5):\n",
    "    te = end_time(s0[i], v0[i])\n",
    "    print(i, s0[i], v0[i], te)"
   ]
  },
  {
   "cell_type": "markdown",
   "metadata": {},
   "source": [
    "You should note in this example we need to repeat the computation of $t_e$ 5 times, once for each pair of initial values. The `range` object is used to create the sequence of index numbers from `0` up to `4` in increments of `1` and the `for` statement is used to step through this sequence one index at a time. The loop starts with `i` equal to `0` and ends with `i` equal to `4`. The `s0` and `v0` lists are indexed with `i` so when `i` is `0`, for example, this indexing yields `100` and `50` respectively."
   ]
  },
  {
   "cell_type": "markdown",
   "metadata": {},
   "source": [
    "## Nested loops\n",
    "\n",
    "Let us now calculate $t_e$ for the following initial values:\n",
    "\n",
    "- $s_0=100$ and $v_0 = [10, 20, 30, 40]$\n",
    "- $s_0=200$ and $v_0 = [10, 20, 30, 40]$\n",
    "- $s_0=300$ and $v_0 = [10, 20, 30, 40]$\n",
    "\n",
    "Notice that $v_0$ repeats for each $s_0$ value (4 $v_0$ values for each $s_0$ value) and in total there should be 12 solutions for $t_e$"
   ]
  },
  {
   "cell_type": "code",
   "execution_count": null,
   "metadata": {},
   "outputs": [],
   "source": [
    "s0 = [100, 200, 300]\n",
    "v0 = [10, 20, 30, 40]\n",
    "\n",
    "for s in s0:\n",
    "    print(\"Start Inner\")\n",
    "    for v in v0:\n",
    "        te = end_time(s, v)\n",
    "        print(s, v, te)\n",
    "    print(\"End Inner\")"
   ]
  },
  {
   "cell_type": "markdown",
   "metadata": {},
   "source": [
    "You should note that the outer loop (lines 4 through 9) repeats 3 times (once for each value in `s0`), which means the inner loop (lines 6 through 8) repeats $4 \\times 3 = 12$ times (once for each value in `v0` repeated for each value in `s0`)."
   ]
  },
  {
   "cell_type": "markdown",
   "metadata": {},
   "source": [
    "<div class=\"panel panel-danger\">\n",
    "    <div class=\"panel-heading\">\n",
    "        <p><i class=\"fa fa-exclamation-triangle\" aria-hidden=\"true\"></i> Take Note</p>\n",
    "    </div>\n",
    "    <div class=\"panel-body\">\n",
    "    <p>Notice the indentation for this nested loop example above. Lines 5 to 9 require 4 spaces in front of the program statements to \"tell\" *Python* that they are inside the first (outer) `for` loop. Lines 7 and 8 require 4+4 spaces in front of the program statements to \"tell\" *Python* that they are inside the second (inner) `for` loop.</p>\n",
    "    <p>Make sure you understand the behaviour and output of the following three examples and why they are different!!</p>\n",
    "    </div>\n",
    "</div>"
   ]
  },
  {
   "cell_type": "code",
   "execution_count": null,
   "metadata": {},
   "outputs": [],
   "source": [
    "a = 0.0\n",
    "for i in range(10):\n",
    "    a += 10 * 1\n",
    "    for j in range(5):\n",
    "        a /= 2\n",
    "    a *= 10\n",
    "print(\"a = \", a)"
   ]
  },
  {
   "cell_type": "code",
   "execution_count": null,
   "metadata": {},
   "outputs": [],
   "source": [
    "a = 0.0\n",
    "for i in range(10):\n",
    "    a += 10 * 1\n",
    "    for j in range(5):\n",
    "        a /= 2\n",
    "        a *= 10\n",
    "print(\"a = \", a)"
   ]
  },
  {
   "cell_type": "code",
   "execution_count": null,
   "metadata": {},
   "outputs": [],
   "source": [
    "a = 0.0\n",
    "for i in range(10):\n",
    "    a += 10 * 1\n",
    "for j in range(5):\n",
    "    a /= 2\n",
    "a *= 10\n",
    "print(\"a = \", a)"
   ]
  },
  {
   "cell_type": "markdown",
   "metadata": {},
   "source": [
    "## Debugging\n",
    "\n",
    "\n",
    "As you start writing bigger programs, you might find yourself spending more time debugging. More code means more chances to make an error and more places for bugs to hide.\n",
    "\n",
    "One way to cut your debugging time is “debugging by bisection”. For example, if there are 100 lines in your program and you check them one at a time, it would take 100 steps.\n",
    "\n",
    "Instead, try to break the problem in half. Look at the middle of the program, or near it, for an intermediate value you can check. Add a print statement (or something else that has a verifiable effect) and run the program.\n",
    "\n",
    "If the mid-point check is incorrect, there must be a problem in the first half of the program. If it is correct, the problem is in the second half.\n",
    "\n",
    "Every time you perform a check like this, you halve the number of lines you have to search. After six steps (which is fewer than 100), you would be down to one or two lines of code, at least in theory.\n",
    "\n",
    "In practice it is not always clear what the “middle of the program” is and not always possible to check it. It doesn’t make sense to count lines and find the exact midpoint. Instead, think about places in the program where there might be errors and places where it is easy to put a check. Then choose a spot where you think the chances are about the same that the bug is before or after the check.\n",
    "\n",
    "When you use indices to traverse the values in a sequence, it is tricky to get the beginning and end of the traversal right. Here is a function that is supposed to compare two words and return True if one of the words is the reverse of the other, but it contains one error:"
   ]
  },
  {
   "cell_type": "code",
   "execution_count": null,
   "metadata": {},
   "outputs": [],
   "source": [
    "def is_reversed(one, two):\n",
    "    check = []\n",
    "    j = len(two)\n",
    "    for i in range(len(one)):\n",
    "        check.append(one[i] == two[j])\n",
    "        j = j-1\n",
    "    return all(check)"
   ]
  },
  {
   "cell_type": "markdown",
   "metadata": {},
   "source": [
    "`i` and `j` are indices: `i` traverses `one` forward while `j` traverses `two` backward. If we find two numbers that match we append `True` else we append `False` to the list `check`. The `all` function is used to return `True` if all entries in `check` are `True` else it will return `False`.\n",
    "\n",
    "If we test this function with the lists `[1, 2, 3, 4]` and `[4, 3, 2, 1]`, we expect the return value `True` but we get an `IndexError`:"
   ]
  },
  {
   "cell_type": "code",
   "execution_count": null,
   "metadata": {},
   "outputs": [],
   "source": [
    "is_reversed([1, 2, 3, 4], [4, 3, 2, 1])"
   ]
  },
  {
   "cell_type": "markdown",
   "metadata": {},
   "source": [
    "For debugging this kind of error, my first move is to print the values of the indices immediately before the line where the error appears."
   ]
  },
  {
   "cell_type": "code",
   "execution_count": null,
   "metadata": {},
   "outputs": [],
   "source": [
    "def is_reversed(one, two):\n",
    "    check = []\n",
    "    j = len(two)\n",
    "    for i in range(len(one)):\n",
    "        print(i, j)\n",
    "        check.append(one[i] == two[j])\n",
    "        j = j-1\n",
    "    return all(check)"
   ]
  },
  {
   "cell_type": "markdown",
   "metadata": {},
   "source": [
    "Now when I run the program again, I get more information:"
   ]
  },
  {
   "cell_type": "code",
   "execution_count": null,
   "metadata": {},
   "outputs": [],
   "source": [
    "is_reversed([1, 2, 3, 4], [4, 3, 2, 1])"
   ]
  },
  {
   "cell_type": "markdown",
   "metadata": {},
   "source": [
    "The first time through the loop, the value of `j` is 4, which is out of range for the list `two`. The index of the last number is `3`, so the initial value for `j` should be `len(two) - 1`.\n",
    "\n",
    "If I fix that error and run the program again, I get:"
   ]
  },
  {
   "cell_type": "code",
   "execution_count": null,
   "metadata": {},
   "outputs": [],
   "source": [
    "def is_reversed(one, two):\n",
    "    check = []\n",
    "    j = len(two) - 1\n",
    "    for i in range(len(one)):\n",
    "        print(i, j)\n",
    "        check.append(one[i] == two[j])\n",
    "        j = j-1\n",
    "    return all(check)"
   ]
  },
  {
   "cell_type": "code",
   "execution_count": null,
   "metadata": {},
   "outputs": [],
   "source": [
    "is_reversed([1, 2, 3, 4], [4, 3, 2, 1])"
   ]
  },
  {
   "cell_type": "markdown",
   "metadata": {},
   "source": [
    "This time we get the right answer"
   ]
  },
  {
   "cell_type": "markdown",
   "metadata": {},
   "source": [
    "## Glossary\n",
    "\n",
    "**decrement**: An update that decreases the value of a variable.\n",
    "\n",
    "**increment**: An update that increases the value of a variable (often by one).\n",
    "\n",
    "**index**: An integer value used to select an item in a sequence, such as a number in a list. In *Python* indices start from 0.\n",
    "\n",
    "**initialization**: An assignment that gives an initial value to a variable that will be updated.\n",
    "\n",
    "**iteration**: Repeated execution of a set of statements using either a recursive function call or a loop.\n",
    "\n",
    "**reassignment**: Assigning a new value to a variable that already exists.\n",
    "\n",
    "**sequence**: An ordered collection of objects where each value is identified by an integer index.\n",
    "\n",
    "**traverse**: To iterate through the items in a sequence, performing a similar operation on each.\n",
    "\n",
    "**update**: An assignment where the new value of the variable depends on the old."
   ]
  },
  {
   "cell_type": "markdown",
   "metadata": {},
   "source": [
    "## Exercises\n",
    "\n",
    "Many of the exercises that follow can be solved using lists and/or arrays alone without a `for` statement. Again I recommend, as a means of practice, trying to solve each of the following exercises in as many different ways as you can."
   ]
  },
  {
   "cell_type": "markdown",
   "metadata": {},
   "source": [
    "1) Write a function (called `add`) that takes two positive integers as input. This function must multiply the two positive integers by using the addition (`+`) operator. Use the multiplication (`*`) operator only to verify your answer. Recall that you can write\n",
    "\n",
    "$$\n",
    "    7\\times4 =\n",
    "    7 + 7 + 7 + 7 =\n",
    "    4 + 4 + 4 + 4 + 4 + 4 + 4\n",
    "$$"
   ]
  },
  {
   "cell_type": "markdown",
   "metadata": {},
   "source": [
    "2) Write a function (called `die_throws`) that takes a positive integer `N` as input. This function must simulate the throwing of a die `N` times and must return a list of the `N` die values.\n",
    "\n",
    "*Hint*: You can use `np.random.randint` to generate a random integer between 1 to 6."
   ]
  },
  {
   "cell_type": "markdown",
   "metadata": {},
   "source": [
    "3) An alternating series is a series where the terms alternate signs. Write a function that takes a positive integer `N` as input. This function must return the sum of the first `N` terms of the following series:\n",
    "\n",
    "$$\n",
    "\\sum^{100}_{n=1} (-1)^{n+1} \\frac{1}{n} = 1 - \\frac{1}{2} + \\frac{1}{3} - \\frac{1}{4} + \\dots -  \\frac{1}{100}\n",
    "$$"
   ]
  },
  {
   "cell_type": "markdown",
   "metadata": {},
   "source": [
    "4) Find the pattern of the following series. Write a function that takes a positive integer `N` as input. This function must return the sum of the first `N` terms of the following series:\n",
    "\n",
    "$$\n",
    "1 + \\frac{1}{2} - \\frac{1}{4} + \\frac{1}{8} - \\frac{1}{16} + \\frac{1}{32} - \\dots\n",
    "$$"
   ]
  },
  {
   "cell_type": "markdown",
   "metadata": {},
   "source": [
    "5) The Basel problem was first posed by Pietro Mengoli in 1644 and was solved by Leonhard Euler in 1735 which brought Leonhard Euler immediate fame at the age of 28. Euler showed that the sequence\n",
    "\n",
    "$$\n",
    "1 + \\frac{1}{4} + \\frac{1}{9} + \\frac{1}{16} + \\frac{1}{25} + \\frac{1}{36} + \\dots\n",
    "$$\n",
    "\n",
    "converges to $\\pi^2/6$. Write a function that takes a positive integer `N` as input. This function must return the sum of the first `N` terms of this series. Compare the accuracy to $\\pi^2/6$ for different inputs of `N`."
   ]
  },
  {
   "cell_type": "markdown",
   "metadata": {},
   "source": [
    "6) A very famous series was proposed by the mathematician Fibonacci: The first two terms of the series are given by $L_0 = 0$ and $L_1 = 1$. Hereafter, each new term in the series is given by the sum of the previous two terms in the series i.e.\n",
    "\n",
    "$$\n",
    "L_k = L_{k-2} + L_{k-1} \\qquad \\text{for} \\quad k = 2, 3, 4, \\dots\n",
    "$$\n",
    "\n",
    "Using the above formula, the following sequence is generated: $0, 1, 1, 2, 3, 5, 8, 13, \\dots$\n",
    "Write a program that computes the first 20 terms of the Fibonacci sequence and displays it on the screen."
   ]
  },
  {
   "cell_type": "markdown",
   "metadata": {},
   "source": [
    "7) The sine function can be approximated by the following infinite series:\n",
    "\n",
    "$$\n",
    "\\sin(x) = x - \\frac{x^3}{3!} + \\frac{x^5}{5!} - \\frac{x^7}{7!} + \\dots\n",
    "$$\n",
    "\n",
    "Write a function (called `sine`) that takes `x` and a positive integer `N` as input. This function must return the sum of the first `N` terms of this series. Compare the accuracy of the output for different inputs of `N`."
   ]
  },
  {
   "cell_type": "markdown",
   "metadata": {},
   "source": [
    "8) The mathematician Srinivasa Ramanujan found an infinite series that can be used to generate a numerical approximation of $1/\\pi$:\n",
    "\n",
    "$$\n",
    "\\frac{1}{\\pi} = \\frac{2\\sqrt{2}}{9801} \\sum_{k=0}^{\\infty} \\frac{\\left(4k\\right)!\\left(1103 + 26390k\\right)}{\\left(k!\\right)^4 396^{4k}}\n",
    "$$\n",
    "\n",
    "Write a function (called `estimate_pi`) that takes a positive integer `N` as input. This function must return the sum of the first `N` terms of this series. Compare the accuracy of the output for different inputs of `N`."
   ]
  },
  {
   "cell_type": "markdown",
   "metadata": {},
   "source": [
    "9) Write a function (called `cum_sum`) that takes a list (of positive numbers) as input. This function must return the cumulative sum of values from the input list. For example if `[1, 2, 3, 4, 5]` is given as input, the `cum_sum` function should return `[1, 3, 6, 10, 15]`."
   ]
  },
  {
   "cell_type": "markdown",
   "metadata": {},
   "source": [
    "10) Write a function (called `sum_pairs`) that takes a list (of positive numbers) as input. This function should return the sum of consecutive pairs of numbers from the input list. For example if `[1, 2, 3, 4, 5]` is give as input, this `sum_pairs` function should return `[3, 5, 7, 9]`."
   ]
  },
  {
   "cell_type": "markdown",
   "metadata": {},
   "source": [
    "11) The wind chill factor (WCF) indicates the perceived air temperature to exposed skin and is given by:\n",
    "\n",
    "$$\n",
    "WCF = 13.12 + 0.6215 T_a - 11.37 v^{0.16} + 0.3965 T_a v^{0.16}\n",
    "$$\n",
    "\n",
    "where $T_a$ the air temperature in degrees Celcius and $v$ the air speed in $km/h$.\n",
    "\n",
    "Write a program that displays a collection of WCF’s using nested for loop statements. The temperature ($T_a$) must range from `-20` to `55` degrees Celcius in steps of `5` and wind speed ($v$) must range from `0` to `100` $km/h$ in increments of `10`."
   ]
  },
  {
   "cell_type": "code",
   "execution_count": null,
   "metadata": {},
   "outputs": [],
   "source": []
  }
 ],
 "metadata": {
  "kernelspec": {
   "display_name": "Python 3",
   "language": "python",
   "name": "python3"
  },
  "language_info": {
   "codemirror_mode": {
    "name": "ipython",
    "version": 3
   },
   "file_extension": ".py",
   "mimetype": "text/x-python",
   "name": "python",
   "nbconvert_exporter": "python",
   "pygments_lexer": "ipython3",
   "version": "3.6.3"
  }
 },
 "nbformat": 4,
 "nbformat_minor": 1
}
